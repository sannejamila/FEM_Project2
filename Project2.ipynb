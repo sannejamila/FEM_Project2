{
 "cells": [
  {
   "attachments": {},
   "cell_type": "markdown",
   "metadata": {},
   "source": [
    "# Project 2 TMA4220\n",
    "## Option 2: Cahn-Hilliard equation\n",
    "\n",
    "We have the following 2D partial differential equation, called the Cahn-Hilliard equation\n",
    "\n",
    "$$\n",
    "\\partial_t \\phi = \\nabla \\cdot [M\\nabla(\\gamma(\\phi^3-\\phi)-\\epsilon \\Delta \\phi)] \\ \\ \\ \\ in \\ \\  \\Omega \\times [0,T]\n",
    "$$\n",
    "\n",
    "Where $M, \\epsilon > 0$.\n",
    "\n",
    "The PDE is a fourth order parabolic equation. Due to this compelixity, we introduce a new variable $\\mu$ in order to split the problem into two coupled second-order problems. The problem can thus be rewritten as the following problem.\n",
    "\n",
    "$$\n",
    "\\begin{aligned}\n",
    "\\partial_t \\phi &= \\nabla \\cdot [M\\nabla \\mu] \\ \\ \\ \\ in \\ \\  \\Omega \\times [0,T] \\\\\n",
    "\\mu &= \\gamma(\\phi^3-\\phi)-\\epsilon \\Delta \\phi \\ \\ \\ \\ in \\ \\  \\Omega \\times [0,T] \n",
    "\\end{aligned}\n",
    "$$\n",
    "\n",
    "The variable $\\mu$ can be identified as the chemical potential driving the evolution of the equation. "
   ]
  },
  {
   "attachments": {},
   "cell_type": "markdown",
   "metadata": {},
   "source": [
    "### Task 2.2 - Weak formulation\n",
    "\n",
    "Firstly, we want to derive the following weak formulation\n",
    "\n",
    "\n",
    "$$\n",
    "\\begin{aligned}\n",
    "(\\partial_t \\phi,v) + (M\\nabla \\mu, \\nabla v) = 0 \\ \\ \\ \\ \\forall v \\in \\mathbb{V} \\\\\n",
    "(\\mu,w)-(\\gamma (\\phi^3 -\\phi),w)-(\\epsilon \\nabla \\phi, \\nabla w) &= 0 \\ \\ \\ \\  \\forall w \\in \\mathbb{V} \n",
    "\\end{aligned}\n",
    "$$\n",
    "\n",
    "In order to allow such a derivation, one needs to define the boundary conditions that results in this weak form. \n",
    "\n",
    "Consider the first equation, $\\partial_t \\phi = \\nabla \\cdot [M\\nabla \\mu] \\ \\ \\ \\ in \\ \\  \\Omega \\times [0,T] $. We start by multiplying our expression by a test function $v \\in \\mathbb{V}$ and integrating over our domain $\\Omega$. Thus we obtain the following equation\n",
    "\n",
    "$$\n",
    "\\int_\\Omega \\partial_t \\phi \\cdot v \\ dx = \\int_\\Omega \\nabla \\cdot (M \\nabla \\mu) \\cdot v \\ dx \n",
    "$$\n",
    "\n",
    "Now, recall the Divergence theorem.\n",
    "\n",
    "The **Divergence Theorem** states that for a vector field $\\mathbf{F}$ defined on a region $\\Omega$ with boundary $\\partial \\Omega$, we have:\n",
    "\n",
    "$$\n",
    "\\int_\\Omega \\nabla \\cdot \\mathbf{F} \\, dx = \\int_{\\partial \\Omega} \\mathbf{F} \\cdot n \\, dS,\n",
    "$$\n",
    "\n",
    "where $n$ is the outward-pointing unit normal vector on the boundary $\\partial \\Omega$.\n",
    "\n",
    "Applying the Divergence Theorem to our expression, we obtain \n",
    "\n",
    "$$\n",
    "\\int_\\Omega \\nabla \\cdot (M \\nabla \\mu) \\, v \\, dx = -\\int_\\Omega M \\nabla \\mu \\cdot \\nabla v \\, dx + \\int_{\\partial \\Omega} M \\nabla \\mu \\cdot n \\, v \\, dS.\n",
    "$$\n",
    "\n",
    "By assuming homogenous Neumann boundary conditions, i.e $M \\nabla \\mu \\cdot n = 0 $ on $\\partial \\Omega$, our expression can be written as\n",
    "\n",
    "$$\n",
    "\\int_\\Omega \\partial_t \\phi \\cdot v \\ dx + \\int_\\Omega  M\\nabla \\mu \\cdot \\nabla v \\ dx\n",
    "$$\n",
    "\n",
    "Which can be further rewritten as $(\\partial_t \\phi,v) + (M\\nabla \\mu, \\nabla v) = 0 \\ \\ \\ \\ \\forall v \\in \\mathbb{V}$.\n",
    "\n",
    "Now consider the second equation, $\\mu = \\gamma(\\phi^3-\\phi)-\\epsilon \\Delta \\phi \\ \\ \\ \\ in \\ \\  \\Omega \\times [0,T] $. We follow the same approach as for the first equation. We start by multiplying our expression by a test function $w \\in \\mathbb{V}$ and integrating over our domain $\\Omega$. Thus we obtain the following equation\n",
    "\n",
    "$$\n",
    "\\int_\\Omega \\mu \\cdot w \\ dx= \\int_\\Omega \\gamma (\\phi^3-\\phi) \\cdot w \\ dx - \\int_\\Omega \\epsilon \\Delta \\phi \\cdot w \\ dx \n",
    "$$\n",
    "\n",
    "Consider the term $\\int_\\Omega \\epsilon \\Delta \\phi \\cdot w \\ dx $. By integration by parts, we obtain\n",
    "\n",
    "$$\n",
    "\\int_\\Omega \\epsilon \\Delta \\phi \\cdot w \\ dx  = -\\int_\\Omega \\epsilon \\nabla \\phi \\cdot \\nabla w \\ dx + \\int_ {\\partial \\Omega} \\epsilon \\nabla \\phi \\cdot n \\cdot w \\ dS\n",
    "$$\n",
    "\n",
    "Inserting this expression into our variational form, such that we obtain\n",
    "\n",
    "$$\n",
    "\\int_\\Omega \\mu \\cdot w \\ dx= \\int_\\Omega \\gamma (\\phi^3-\\phi) \\cdot w \\ dx + \\int_\\Omega \\epsilon \\nabla \\phi \\cdot \\nabla w \\ dx - \\int_ {\\partial \\Omega} \\epsilon \\nabla \\phi \\cdot n \\cdot w \\ dS\n",
    "$$\n",
    "\n",
    "By assuming homogenous Neumann boundary conditions for $\\phi$ on $\\partial \\Omega$, i.e $\\epsilon \\nabla \\phi \\cdot n = 0$ on $\\partial \\Omega$, we can rewrite our expression as\n",
    "\n",
    "$$\n",
    "\\int_\\Omega \\mu \\cdot w \\ dx= \\int_\\Omega \\gamma (\\phi^3-\\phi) \\cdot w \\ dx + \\int_\\Omega \\epsilon \\nabla \\phi \\cdot \\nabla w \\ dx \n",
    "$$\n",
    "\n",
    "Which can further be rewritten as $(\\mu,w)-(\\gamma (\\phi^3 -\\phi),w)-(\\epsilon \\nabla \\phi, \\nabla w) = 0 \\ \\ \\ \\  \\forall w \\in \\mathbb{V}$, which is our desired result."
   ]
  },
  {
   "attachments": {},
   "cell_type": "markdown",
   "metadata": {},
   "source": [
    "Now that we have derived the weak formulation of our problem, we want to prove that under these conditions, the total mass is conserved in time, i.e that $\\int_\\Omega \\phi (x,t) \\ dx = C$.\n",
    "\n",
    "In order for the total mass $\\int_\\Omega \\phi (x,t) \\ dx$ to be conserved in time, its derivative with respect to the time $t$ needs to be zero, i.e $\\frac{\\partial}{\\partial t} \\int_\\Omega \\phi (x,t) \\ dx = 0$.\n",
    "\n",
    "By inserting the right hand side of our first second order PDE, $\\partial_t \\phi = \\nabla \\cdot [M\\nabla \\mu] \\ \\ \\ \\ in \\ \\  \\Omega \\times [0,T] $, we obtain the following\n",
    "\n",
    "\n",
    "$$\n",
    "\\frac{\\partial}{\\partial t} \\int_\\Omega \\phi (x,t) \\ dx = \\int_\\Omega \\partial_t \\phi (x,t) = \\int_\\Omega  \\nabla \\cdot [M\\nabla \\mu] \\ dx\n",
    "$$\n",
    "\n",
    "By applying the Divergence theorem, we further obtain \n",
    "\n",
    "$$\n",
    "\\int_\\Omega \\partial_t \\phi (x,t) = \\int_\\Omega  \\nabla \\cdot [M\\nabla \\mu] \\ dx =  \\int_{ \\partial \\Omega} M\\nabla \\mu \\cdot n \\ ds\n",
    "$$\n",
    "\n",
    "Recall our first boundary condition, $M \\nabla \\mu \\cdot n = 0 $ on $\\partial \\Omega$. We observe that the boundary conditions results in the term  $\\int_{ \\partial \\Omega} M\\nabla \\mu \\cdot n \\ ds$ vanishing, thus obtaining\n",
    "\n",
    "$$\n",
    "\\int_\\Omega \\partial_t \\phi (x,t) = 0\n",
    "$$\n",
    "\n",
    "Meaning that the total mass is conserved in time, which is our desired result. \n"
   ]
  },
  {
   "attachments": {},
   "cell_type": "markdown",
   "metadata": {},
   "source": [
    "We now want to show that the energy $E(\\phi(t)) = \\int_\\Omega \\frac{\\epsilon}{2} \\mid \\nabla \\phi \\mid^2 + \\frac{\\gamma}{4}(\\phi^2-1)^2 \\ dx$ is decreasing in time under our boundary conditions, i.e, we simply need to show that\n",
    "\n",
    "$$\n",
    "\\frac{\\partial}{\\partial t} E(\\phi(t)) < 0\n",
    "$$"
   ]
  },
  {
   "attachments": {},
   "cell_type": "markdown",
   "metadata": {},
   "source": [
    "### Task 2.3 - Fully discrete schemes"
   ]
  },
  {
   "attachments": {},
   "cell_type": "markdown",
   "metadata": {},
   "source": [
    "### Task 2.4 - Convergence and conservation properties"
   ]
  },
  {
   "attachments": {},
   "cell_type": "markdown",
   "metadata": {},
   "source": [
    "### Task 2.5 - Time adaptivity"
   ]
  }
 ],
 "metadata": {
  "language_info": {
   "name": "python"
  },
  "orig_nbformat": 4
 },
 "nbformat": 4,
 "nbformat_minor": 2
}
