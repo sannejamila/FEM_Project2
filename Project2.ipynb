{
 "cells": [
  {
   "attachments": {},
   "cell_type": "markdown",
   "metadata": {},
   "source": [
    "# Project 2 TMA4220\n",
    "## Option 2: Cahn-Hilliard equation\n",
    "\n",
    "We have the following 2D partial differential equation, called the Cahn-Hilliard equation\n",
    "\n",
    "$$\n",
    "\\partial_t \\phi = \\nabla \\cdot [M\\nabla(\\gamma(\\phi^3-\\phi)-\\epsilon \\Delta \\phi)] \\ \\ \\ \\ in \\ \\  \\Omega \\times [0,T]\n",
    "$$\n",
    "\n",
    "Where $M, \\epsilon > 0$.\n",
    "\n",
    "The PDE is a fourth order parabolic equation. Due to this compelixity, we introduce a new variable $\\mu$ in order to split the problem into two coupled second-order problems. The problem can thus be rewritten as the following problem.\n",
    "\n",
    "$$\n",
    "\\begin{aligned}\n",
    "\\partial_t \\phi &= \\nabla \\cdot [M\\nabla \\mu] \\ \\ \\ \\ in \\ \\  \\Omega \\times [0,T] \\\\\n",
    "\\mu &= \\gamma(\\phi^3-\\phi)-\\epsilon \\Delta \\phi \\ \\ \\ \\ in \\ \\  \\Omega \\times [0,T] \n",
    "\\end{aligned}\n",
    "$$\n",
    "\n",
    "The variable $\\mu$ can be identified as the chemical potential driving the evolution of the equation. "
   ]
  },
  {
   "attachments": {},
   "cell_type": "markdown",
   "metadata": {},
   "source": [
    "### Task 2.2 - Weak formulation\n",
    "\n",
    "Firstly, we want to derive the following weak formulation\n",
    "\n",
    "\n",
    "$$\n",
    "\\begin{aligned}\n",
    "(\\partial_t \\phi,v) + (M\\nabla \\mu, \\nabla v) = 0 \\ \\ \\ \\ \\forall v \\in \\mathbb{V} \\\\\n",
    "(\\mu,w)-(\\gamma (\\phi^3 -\\phi),w)-(\\epsilon \\nabla \\phi, \\nabla w) &= 0 \\ \\ \\ \\  \\forall w \\in \\mathbb{V} \n",
    "\\end{aligned}\n",
    "$$\n",
    "\n",
    "In order to allow such a derivation, one needs to define the boundary conditions that results in this weak form. \n",
    "\n",
    "Consider the first equation, $\\partial_t \\phi = \\nabla \\cdot [M\\nabla \\mu] \\ \\ \\ \\ in \\ \\  \\Omega \\times [0,T] $. We start by multiplying our expression by a test function $v \\in \\mathbb{V}$ and integrating over our domain $\\Omega$. Thus we obtain the following equation\n",
    "\n",
    "$$\n",
    "\\int_\\Omega \\partial_t \\phi \\cdot v \\ dx = \\int_\\Omega \\nabla \\cdot (M \\nabla \\mu) \\cdot v \\ dx \n",
    "$$\n",
    "\n",
    "Now, recall the Divergence theorem.\n",
    "\n",
    "The **Divergence Theorem** states that for a vector field $\\mathbf{F}$ defined on a region $\\Omega$ with boundary $\\partial \\Omega$, we have:\n",
    "\n",
    "$$\n",
    "\\int_\\Omega \\nabla \\cdot \\mathbf{F} \\, dx = \\int_{\\partial \\Omega} \\mathbf{F} \\cdot n \\, dS,\n",
    "$$\n",
    "\n",
    "where $n$ is the outward-pointing unit normal vector on the boundary $\\partial \\Omega$.\n",
    "\n",
    "Applying the Divergence Theorem to our expression, we obtain \n",
    "\n",
    "$$\n",
    "\\int_\\Omega \\nabla \\cdot (M \\nabla \\mu) \\, v \\, dx = -\\int_\\Omega M \\nabla \\mu \\cdot \\nabla v \\, dx + \\int_{\\partial \\Omega} M \\nabla \\mu \\cdot n \\, v \\, dS.\n",
    "$$\n",
    "\n",
    "By assuming homogenous Neumann boundary conditions, i.e $M \\nabla \\mu \\cdot n = 0 $ on $\\partial \\Omega$, our expression can be written as\n",
    "\n",
    "$$\n",
    "\\int_\\Omega \\partial_t \\phi \\cdot v \\ dx + \\int_\\Omega  M\\nabla \\mu \\cdot \\nabla v \\ dx\n",
    "$$\n",
    "\n",
    "Which can be further rewritten as $(\\partial_t \\phi,v) + (M\\nabla \\mu, \\nabla v) = 0 \\ \\ \\ \\ \\forall v \\in \\mathbb{V}$.\n",
    "\n",
    "Now consider the second equation, $\\mu = \\gamma(\\phi^3-\\phi)-\\epsilon \\Delta \\phi \\ \\ \\ \\ in \\ \\  \\Omega \\times [0,T] $. We follow the same approach as for the first equation. We start by multiplying our expression by a test function $w \\in \\mathbb{V}$ and integrating over our domain $\\Omega$. Thus we obtain the following equation\n",
    "\n",
    "$$\n",
    "\\int_\\Omega \\mu \\cdot w \\ dx= \\int_\\Omega \\gamma (\\phi^3-\\phi) \\cdot w \\ dx - \\int_\\Omega \\epsilon \\Delta \\phi \\cdot w \\ dx \n",
    "$$\n",
    "\n",
    "Consider the term $\\int_\\Omega \\epsilon \\Delta \\phi \\cdot w \\ dx $. By integration by parts, we obtain\n",
    "\n",
    "$$\n",
    "\\int_\\Omega \\epsilon \\Delta \\phi \\cdot w \\ dx  = -\\int_\\Omega \\epsilon \\nabla \\phi \\cdot \\nabla w \\ dx + \\int_ {\\partial \\Omega} \\epsilon \\nabla \\phi \\cdot n \\cdot w \\ dS\n",
    "$$\n",
    "\n",
    "Inserting this expression into our variational form, such that we obtain\n",
    "\n",
    "$$\n",
    "\\int_\\Omega \\mu \\cdot w \\ dx= \\int_\\Omega \\gamma (\\phi^3-\\phi) \\cdot w \\ dx + \\int_\\Omega \\epsilon \\nabla \\phi \\cdot \\nabla w \\ dx - \\int_ {\\partial \\Omega} \\epsilon \\nabla \\phi \\cdot n \\cdot w \\ dS\n",
    "$$\n",
    "\n",
    "By assuming homogenous Neumann boundary conditions for $\\phi$ on $\\partial \\Omega$, i.e $\\epsilon \\nabla \\phi \\cdot n = 0$ on $\\partial \\Omega$, we can rewrite our expression as\n",
    "\n",
    "$$\n",
    "\\int_\\Omega \\mu \\cdot w \\ dx= \\int_\\Omega \\gamma (\\phi^3-\\phi) \\cdot w \\ dx + \\int_\\Omega \\epsilon \\nabla \\phi \\cdot \\nabla w \\ dx \n",
    "$$\n",
    "\n",
    "Which can further be rewritten as $(\\mu,w)-(\\gamma (\\phi^3 -\\phi),w)-(\\epsilon \\nabla \\phi, \\nabla w) = 0 \\ \\ \\ \\  \\forall w \\in \\mathbb{V}$, which is our desired result."
   ]
  },
  {
   "attachments": {},
   "cell_type": "markdown",
   "metadata": {},
   "source": [
    "Now that we have derived the weak formulation of our problem, we want to prove that under these conditions, the total mass is conserved in time, i.e that $\\int_\\Omega \\phi (x,t) \\ dx = C$.\n",
    "\n",
    "In order for the total mass $\\int_\\Omega \\phi (x,t) \\ dx$ to be conserved in time, its derivative with respect to the time $t$ needs to be zero, i.e $\\frac{\\partial}{\\partial t} \\int_\\Omega \\phi (x,t) \\ dx = 0$.\n",
    "\n",
    "By inserting the right hand side of our first second order PDE, $\\partial_t \\phi = \\nabla \\cdot [M\\nabla \\mu] \\ \\ \\ \\ in \\ \\  \\Omega \\times [0,T] $, we obtain the following\n",
    "\n",
    "\n",
    "$$\n",
    "\\frac{\\partial}{\\partial t} \\int_\\Omega \\phi (x,t) \\ dx = \\int_\\Omega \\partial_t \\phi (x,t) = \\int_\\Omega  \\nabla \\cdot [M\\nabla \\mu] \\ dx\n",
    "$$\n",
    "\n",
    "By applying the Divergence theorem, we further obtain \n",
    "\n",
    "$$\n",
    "\\int_\\Omega \\partial_t \\phi (x,t) = \\int_\\Omega  \\nabla \\cdot [M\\nabla \\mu] \\ dx =  \\int_{ \\partial \\Omega} M\\nabla \\mu \\cdot n \\ ds\n",
    "$$\n",
    "\n",
    "Recall our first boundary condition, $M \\nabla \\mu \\cdot n = 0 $ on $\\partial \\Omega$. We observe that the boundary conditions results in the term  $\\int_{ \\partial \\Omega} M\\nabla \\mu \\cdot n \\ ds$ vanishing, thus obtaining\n",
    "\n",
    "$$\n",
    "\\int_\\Omega \\partial_t \\phi (x,t) = 0\n",
    "$$\n",
    "\n",
    "Meaning that the total mass is conserved in time, which is our desired result. \n"
   ]
  },
  {
   "attachments": {},
   "cell_type": "markdown",
   "metadata": {},
   "source": [
    "We now want to show that the energy $E(\\phi(t)) = \\int_\\Omega \\frac{\\epsilon}{2} \\mid \\nabla \\phi \\mid^2 + \\frac{\\gamma}{4}(\\phi^2-1)^2 \\ dx$ is decreasing in time under our boundary conditions, i.e, we simply need to show that\n",
    "\n",
    "$$\n",
    "\\frac{\\partial}{\\partial t} E(\\phi(t)) < 0\n",
    "$$\n",
    "\n",
    "We have that \n",
    "\n",
    "$$\n",
    "\\frac{\\partial}{\\partial t} E(\\phi(t)) = \\frac{\\partial}{\\partial t} \\int_\\Omega \\frac{\\epsilon}{2} \\mid \\nabla \\phi \\mid^2 + \\frac{\\gamma}{4}(\\phi^2-1)^2 \\ dx \n",
    "$$\n",
    "\n",
    "By using the product rule and the chain rule, and the integrating by parts, we obtain the following\n",
    "\n",
    "$$\n",
    "\\frac{\\partial}{\\partial t} E(\\phi(t)) = \\int_\\Omega (\\epsilon \\nabla \\phi \\cdot \\nabla (\\partial_t \\phi) + \\gamma (\\phi^3-\\phi) \\partial_t \\phi) \\ dx \n",
    "= \\int_\\Omega (-\\epsilon \\Delta \\phi + \\gamma (\\phi^3-\\phi)) \\partial_t \\phi \\ dx \n",
    "$$\n",
    "\n",
    "Observe that from our second order PDE, we have the relation $\\mu = \\gamma (\\phi^3- \\phi)-\\epsilon \\Delta \\phi$, thus we can simply insert $\\mu$ into our expression, obtaining\n",
    "$$\n",
    "\\frac{\\partial}{\\partial t} E(\\phi(t)) = \\int_\\Omega \\mu \\partial_t \\phi \\ dx \n",
    "$$\n",
    "\n",
    "We also have the relation $\\phi_t = \\nabla \\cdot (M \\nabla \\mu)$ from our second order PDE. By inserting this into our expression, we obtain\n",
    "\n",
    "$$\n",
    "\\frac{\\partial}{\\partial t} E(\\phi(t)) = \\int_\\Omega \\mu \\nabla \\cdot (M \\nabla \\mu)\\ dx \n",
    "$$\n",
    "\n",
    "By applying the Divergence theorem, we obtain\n",
    "\n",
    "$$\n",
    "\\frac{\\partial}{\\partial t} E(\\phi(t)) = -\\int_\\Omega  M \\mid \\nabla \\mu \\mid ^2 \\ dx + \\int_{\\partial \\Omega} M \\mu \\nabla \\mu \\cdot n \\ dS\n",
    "$$\n",
    "\n",
    "Where our last term vanishes due to our boundary conditions. As $ M > 0$ and $\\mid \\nabla \\mu \\mid ^2  \\ge 0$, we have\n",
    "\n",
    "$$\n",
    "\\frac{\\partial}{\\partial t} E(\\phi(t)) = -\\int_\\Omega  M \\mid \\nabla \\mu \\mid ^2 \\ dx < 0\n",
    "$$\n",
    "\n",
    "Meaning that the energy is decreasing in time when we apply the boundary condtions we derived earlier, which is what we wanted to show."
   ]
  },
  {
   "attachments": {},
   "cell_type": "markdown",
   "metadata": {},
   "source": [
    "### Task 2.3 - Fully discrete schemes"
   ]
  },
  {
   "attachments": {},
   "cell_type": "markdown",
   "metadata": {},
   "source": [
    "We now want to make a solver to solve the system\n",
    "\n",
    "$$\n",
    "\\begin{aligned}\n",
    "(\\partial_t \\phi,v) + (M\\nabla \\mu, \\nabla v) = (f,v)\\ \\ \\ \\ \\forall v \\in \\mathbb{V} \\\\\n",
    "(\\mu,w)-(\\gamma (\\phi^3 -\\phi),w)-(\\epsilon \\nabla \\phi, \\nabla w) &= (g,w) \\ \\ \\ \\  \\forall w \\in \\mathbb{V} \n",
    "\\end{aligned}\n",
    "$$"
   ]
  },
  {
   "cell_type": "code",
   "execution_count": 121,
   "metadata": {},
   "outputs": [],
   "source": [
    "from ngsolve import *\n",
    "from ngsolve.webgui import Draw\n",
    "import random\n",
    "import numpy as np"
   ]
  },
  {
   "cell_type": "code",
   "execution_count": 122,
   "metadata": {},
   "outputs": [],
   "source": [
    "#Defining parameters\n",
    "epsilon = 0.02\n",
    "gamma = 50\n",
    "M = 1e-3\n",
    "maxh = 0.01 \n",
    "order = 1 \n",
    "tau = 0.1            \n",
    "T = 1"
   ]
  },
  {
   "cell_type": "code",
   "execution_count": 123,
   "metadata": {},
   "outputs": [],
   "source": [
    "#Defining mesh and Finite element space\n",
    "mesh = Mesh(unit_square.GenerateMesh(maxh=maxh))\n",
    "V = H1(mesh, order=1) \n",
    "fes = V*V \n",
    "\n",
    "#Defining trial and test functions\n",
    "phi,mu = fes.TrialFunction()  #n+1\n",
    "v,w = fes.TestFunction()\n",
    "\n",
    "#Initialising phi_0 random values between -1 and 1\n",
    "phi_old = GridFunction(V)\n",
    "random_values = np.random.uniform(-1, 1, V.ndof)\n",
    "phi_old.vec.data = random_values"
   ]
  },
  {
   "attachments": {},
   "cell_type": "markdown",
   "metadata": {},
   "source": [
    "#### Fully Explicit Scheme\n",
    "\n",
    "We start by implementing the fully explicit scheme.\n",
    "\n",
    "$$\n",
    "\\begin{aligned}\n",
    "(\\frac{\\phi^{n+1}-\\phi^n}{\\tau},v) + (M\\nabla \\mu^{n+1}, \\nabla v) &= 0\\ \\ \\ \\ \\forall v \\in \\mathbb{V} \\\\\n",
    "(\\mu^{n+1},w)-(\\epsilon \\nabla \\phi^{n+1}, \\nabla w) \n",
    "&= (\\gamma ((\\phi^n)^3 -\\phi^n),w) \\ \\ \\ \\  \\forall w \\in \\mathbb{V} \n",
    "\\end{aligned}\n",
    "$$\n",
    "\n"
   ]
  },
  {
   "cell_type": "code",
   "execution_count": 124,
   "metadata": {},
   "outputs": [],
   "source": [
    "def FullyExplicitScheme(mesh,fes,phi,mu,v,w,phi_old,epsilon,gamma,M,tau,T):\n",
    "\n",
    "    #Defining Bilinear form\n",
    "    A = BilinearForm(fes)\n",
    "    A += phi*v*dx+tau*M*grad(mu)*grad(v)*dx + mu*w*dx-epsilon*grad(phi)*grad(w)*dx\n",
    "    A.Assemble()\n",
    "\n",
    "    \n",
    "    gfu = GridFunction(fes)\n",
    "    gfut = GridFunction(gfu.space, multidim = 0)\n",
    "    gfut.AddMultiDimComponent(gfu.vec)\n",
    "\n",
    "    t=0\n",
    "    while t<T:\n",
    "        #Time stepping\n",
    "        t+=tau\n",
    "      \n",
    "        rhs = 0 \n",
    "        #Defining linear form\n",
    "        f=LinearForm(fes)\n",
    "        f+= tau*rhs*v*dx+gamma*(phi_old**3-phi_old)*w*dx+ tau*phi_old*v*dx\n",
    "        f.Assemble()\n",
    "\n",
    "        #Solving for phi\n",
    "        gfu.vec.data = A.mat.Inverse(freedofs = fes.FreeDofs())*f.vec\n",
    "\n",
    "        #Storing and updating phi\n",
    "        gfut.AddMultiDimComponent(gfu.vec)\n",
    "        phi_old.vec.data = gfu.components[0].vec\n",
    "\n",
    "    return gfut,gfu"
   ]
  },
  {
   "cell_type": "code",
   "execution_count": 125,
   "metadata": {},
   "outputs": [
    {
     "data": {
      "application/vnd.jupyter.widget-view+json": {
       "model_id": "ab7a43842969493a995becbb481f1f49",
       "version_major": 2,
       "version_minor": 0
      },
      "text/plain": [
       "WebGuiWidget(layout=Layout(height='500px', width='100%'), value={'gui_settings': {}, 'ngsolve_version': '6.2.2…"
      ]
     },
     "metadata": {},
     "output_type": "display_data"
    },
    {
     "data": {
      "text/plain": [
       "BaseWebGuiScene"
      ]
     },
     "execution_count": 125,
     "metadata": {},
     "output_type": "execute_result"
    }
   ],
   "source": [
    "gfut,gfu = FullyExplicitScheme(mesh,fes,phi,mu,v,w,phi_old,epsilon,gamma,M,tau,T)\n",
    "Draw(gfut.components[0], mesh, interpolate_multidim = True, animate = True)"
   ]
  },
  {
   "attachments": {},
   "cell_type": "markdown",
   "metadata": {},
   "source": [
    "This is what the numerical solution should look like for $f=0$ and $g=0$."
   ]
  },
  {
   "attachments": {},
   "cell_type": "markdown",
   "metadata": {},
   "source": [
    "### Task 2.4 - Convergence and conservation properties"
   ]
  },
  {
   "attachments": {},
   "cell_type": "markdown",
   "metadata": {},
   "source": [
    "#### Manufactured Solutions"
   ]
  },
  {
   "cell_type": "code",
   "execution_count": 126,
   "metadata": {},
   "outputs": [
    {
     "data": {
      "application/vnd.jupyter.widget-view+json": {
       "model_id": "f039177b1c5b49b9a1c0131e7999c0e9",
       "version_major": 2,
       "version_minor": 0
      },
      "text/plain": [
       "WebGuiWidget(layout=Layout(height='500px', width='100%'), value={'gui_settings': {}, 'ngsolve_version': '6.2.2…"
      ]
     },
     "metadata": {},
     "output_type": "display_data"
    },
    {
     "data": {
      "text/plain": [
       "BaseWebGuiScene"
      ]
     },
     "execution_count": 126,
     "metadata": {},
     "output_type": "execute_result"
    }
   ],
   "source": [
    "\n",
    "gfu = GridFunction(V)\n",
    "gfut = GridFunction(gfu.space, multidim = 0)\n",
    "gfut.AddMultiDimComponent(gfu.vec)\n",
    "\n",
    "\n",
    "t=0\n",
    "while t<T:\n",
    "    t += tau\n",
    "    exact = t*cos(np.pi*x)*cos(np.pi*y)\n",
    "    gfu.Set(exact)     \n",
    "    gfut.AddMultiDimComponent(gfu.vec)\n",
    "Draw(gfut, mesh, interpolate_multidim = True, animate = True)"
   ]
  },
  {
   "attachments": {},
   "cell_type": "markdown",
   "metadata": {},
   "source": [
    "#### Fully Explicit Scheme for Manufactured solutions"
   ]
  },
  {
   "cell_type": "code",
   "execution_count": 127,
   "metadata": {},
   "outputs": [],
   "source": [
    "def phi_exact(t):\n",
    "    return t*cos(np.pi*x)*cos(np.pi*y)\n",
    "\n",
    "def phi_dt(t):\n",
    "    return cos(np.pi*x)*cos(np.pi*y)\n",
    "\n",
    "def phi_lap(t):\n",
    "    return -2*np.pi**2*phi_exact(t)\n",
    "\n",
    "def mu_exact():\n",
    "    return cos(np.pi*x)*cos(np.pi*y)\n",
    "\n",
    "def mu_lap():\n",
    "    return -2*np.pi**2*mu_exact()"
   ]
  },
  {
   "cell_type": "code",
   "execution_count": 128,
   "metadata": {},
   "outputs": [],
   "source": [
    "def FullyExplicitScheme(mesh,fes,phi,mu,v,w,phi_old,epsilon,gamma,M,tau,T):\n",
    "\n",
    "    #Defining Bilinear form\n",
    "    A = BilinearForm(fes)\n",
    "    A += phi*v*dx+tau*M*grad(mu)*grad(v)*dx + mu*w*dx-epsilon*grad(phi)*grad(w)*dx\n",
    "    A.Assemble()\n",
    "\n",
    "    \n",
    "    gfu = GridFunction(fes)\n",
    "    gfut = GridFunction(gfu.space, multidim = 0)\n",
    "    gfut.AddMultiDimComponent(gfu.vec)\n",
    "\n",
    "    L2_error = []\n",
    "    integral = []\n",
    "\n",
    "    t=0\n",
    "    while t<T:\n",
    "        t+=tau\n",
    "        rhs1 = phi_dt(t)-M*mu_lap() \n",
    "        rhs2 = mu_exact() - gamma*(phi_exact(t)**3 - phi_exact(t)) + epsilon*phi_lap(t)\n",
    "            \n",
    "        #Defining linear form\n",
    "        f=LinearForm(fes)\n",
    "        f+= tau*rhs1*v*dx+ phi_old*v*dx+gamma*(phi_old**3-phi_old)*w*dx + rhs2*w*dx\n",
    "        f.Assemble()\n",
    "\n",
    "        #Solving for phi\n",
    "        gfu.vec.data = A.mat.Inverse(freedofs = fes.FreeDofs())*f.vec\n",
    "\n",
    "        e_h = gfu.components[0]-phi_exact(t)\n",
    "        norm = np.sqrt(Integrate(e_h*e_h,mesh))\n",
    "        L2_error.append(norm)\n",
    "        int_phi = Integrate(gfu.components[0],mesh)\n",
    "        L2_error.append(norm)\n",
    "        integral.append(int_phi)\n",
    "\n",
    "        #Storing and updating phi\n",
    "        gfut.AddMultiDimComponent(gfu.vec)\n",
    "        phi_old.vec.data = gfu.components[0].vec\n",
    "\n",
    "\n",
    "    return gfut,gfu, L2_error, integral"
   ]
  },
  {
   "cell_type": "code",
   "execution_count": 129,
   "metadata": {},
   "outputs": [],
   "source": [
    "\n",
    "#Defining trial and test functions\n",
    "phi,mu = fes.TrialFunction()  #n+1\n",
    "v,w = fes.TestFunction()\n",
    "\n",
    "#Initialising phi_0 random values between -1 and 1\n",
    "phi_old = GridFunction(V)\n",
    "initial_values = np.zeros(V.ndof)\n",
    "phi_old.vec.data = initial_values"
   ]
  },
  {
   "cell_type": "code",
   "execution_count": 130,
   "metadata": {},
   "outputs": [
    {
     "data": {
      "application/vnd.jupyter.widget-view+json": {
       "model_id": "4777dc5955d84f8a8e0dc9c646ef5713",
       "version_major": 2,
       "version_minor": 0
      },
      "text/plain": [
       "WebGuiWidget(layout=Layout(height='500px', width='100%'), value={'gui_settings': {}, 'ngsolve_version': '6.2.2…"
      ]
     },
     "metadata": {},
     "output_type": "display_data"
    },
    {
     "name": "stdout",
     "output_type": "stream",
     "text": [
      "[4.440921206043396e-13, 8.881777789891838e-13, 1.3322690652214026e-12, 1.7763778628175583e-12, 2.220476606493281e-12, 2.6645661600104182e-12, 3.1086588490119157e-12, 3.5527273479932106e-12, 3.996820667078033e-12, 4.440913201691232e-12, 4.884958675524459e-12]\n"
     ]
    }
   ],
   "source": [
    "gfut,gfu,L2_error, integral = FullyExplicitScheme(mesh,fes,phi,mu,v,w,phi_old,epsilon,gamma,M,tau,T)\n",
    "Draw(gfut.components[0], mesh, interpolate_multidim = True, animate = True)\n",
    "print(integral)"
   ]
  },
  {
   "cell_type": "code",
   "execution_count": 131,
   "metadata": {},
   "outputs": [
    {
     "data": {
      "image/png": "[encoded data removed]",
      "text/plain": [
       "<Figure size 1000x600 with 1 Axes>"
      ]
     },
     "metadata": {},
     "output_type": "display_data"
    }
   ],
   "source": [
    "import matplotlib.pyplot as plt\n",
    "\n",
    "size = len(integral)\n",
    "time = np.linspace(0,T,size)\n",
    "\n",
    "\n",
    "plt.figure(figsize=(10, 6))\n",
    "plt.plot(time,integral)\n",
    "plt.xlabel('Time')\n",
    "plt.ylabel('Phi')\n",
    "plt.title('Integral of phi over time')\n",
    "plt.grid(True)\n",
    "plt.show()\n"
   ]
  },
  {
   "attachments": {},
   "cell_type": "markdown",
   "metadata": {},
   "source": [
    "#### IMEX Scheme "
   ]
  },
  {
   "cell_type": "markdown",
   "metadata": {},
   "source": []
  },
  {
   "cell_type": "code",
   "execution_count": 132,
   "metadata": {},
   "outputs": [],
   "source": [
    "def IMEXScheme(mesh,fes,phi,mu,v,w,phi_old,epsilon,gamma,M,tau,T):\n",
    "    \n",
    "    gfu = GridFunction(fes)\n",
    "    gfut = GridFunction(gfu.space, multidim = 0)\n",
    "    gfut.AddMultiDimComponent(gfu.vec)\n",
    "    t=0\n",
    "    L2_error = []\n",
    "    integral = []\n",
    "    A = BilinearForm(fes)\n",
    "    A += phi*v*dx+tau*M*grad(mu)*grad(v)*dx -gamma*(phi_exact(t)**2-1)*phi*w*dx+ mu*w*dx-epsilon*grad(phi)*grad(w)*dx\n",
    "\n",
    "    #t=0\n",
    "    while t<T:\n",
    "        t+=tau\n",
    "\n",
    "         #Defining Bilinear form\n",
    "        #A = BilinearForm(fes)\n",
    "        #A += phi*v*dx+tau*M*grad(mu)*grad(v)*dx -gamma*(phi_exact(t)**2-1)*phi*w*dx+ mu*w*dx-epsilon*grad(phi)*grad(w)*dx\n",
    "        A.Assemble()\n",
    "\n",
    "        rhs1 = phi_dt(t)-M*mu_lap() \n",
    "        rhs2 = mu_exact() - gamma*(phi_exact(t)**3 - phi_exact(t)) + epsilon*phi_lap(t)\n",
    "            \n",
    "        #Defining linear form\n",
    "        f=LinearForm(fes)\n",
    "        f+= tau*rhs1*v*dx+ phi_old*v*dx + rhs2*w*dx\n",
    "        f.Assemble()\n",
    "\n",
    "        #Solving for phi\n",
    "        gfu.vec.data = A.mat.Inverse(freedofs = fes.FreeDofs())*f.vec\n",
    "\n",
    "        e_h = gfu.components[0]-phi_exact(t)\n",
    "        norm = np.sqrt(Integrate(e_h*e_h,mesh))\n",
    "        L2_error.append(norm)\n",
    "        int_phi = Integrate(gfu.components[0],mesh)\n",
    "        L2_error.append(norm)\n",
    "        integral.append(int_phi)\n",
    "\n",
    "        #Storing and updating phi\n",
    "        gfut.AddMultiDimComponent(gfu.vec)\n",
    "        phi_old.vec.data = gfu.components[0].vec\n",
    "        #t += tau\n",
    "\n",
    "    return gfut,gfu, L2_error, integral"
   ]
  },
  {
   "cell_type": "code",
   "execution_count": 133,
   "metadata": {},
   "outputs": [],
   "source": [
    "\n",
    "\n",
    "#Defining trial and test functions\n",
    "phi,mu = fes.TrialFunction()  #n+1\n",
    "v,w = fes.TestFunction()\n",
    "\n",
    "#Initialising phi_0 random values between -1 and 1\n",
    "phi_old = GridFunction(V)\n",
    "#random_values = np.random.uniform(-1, 1, V.ndof)\n",
    "random_values= np.zeros(V.ndof)\n",
    "phi_old.vec.data = random_values\n",
    "\n",
    "\n",
    "gfut,gfu, L2_error, integral = IMEXScheme(mesh,fes,phi,mu,v,w,phi_old,epsilon,gamma,M,tau,T)\n",
    "#Draw(gfut.components[0], mesh, interpolate_multidim = True, animate = True)"
   ]
  },
  {
   "cell_type": "code",
   "execution_count": 134,
   "metadata": {},
   "outputs": [
    {
     "data": {
      "image/png": "[encoded data removed]",
      "text/plain": [
       "<Figure size 1000x600 with 1 Axes>"
      ]
     },
     "metadata": {},
     "output_type": "display_data"
    }
   ],
   "source": [
    "size = len(integral)\n",
    "time = np.linspace(0,T,size)\n",
    "\n",
    "\n",
    "plt.figure(figsize=(10, 6))\n",
    "plt.plot(time,integral)\n",
    "plt.xlabel('Time')\n",
    "plt.ylabel('Phi')\n",
    "plt.title('Integral of phi over time')\n",
    "plt.grid(True)\n",
    "plt.show()\n"
   ]
  },
  {
   "attachments": {},
   "cell_type": "markdown",
   "metadata": {},
   "source": [
    "#### Fully Implicit Scheme"
   ]
  },
  {
   "cell_type": "code",
   "execution_count": 135,
   "metadata": {},
   "outputs": [],
   "source": [
    "\n",
    "from ngsolve.solvers import *\n"
   ]
  },
  {
   "cell_type": "code",
   "execution_count": 136,
   "metadata": {},
   "outputs": [],
   "source": [
    "def FullyImplicitScheme(mesh,fes,phi,mu,v,w,phi_old,epsilon,gamma,M,tau,T):\n",
    "\n",
    "    #Defining Bilinear form\n",
    "    A = BilinearForm(fes)\n",
    "    A += phi*v*dx+tau*M*grad(mu)*grad(v)*dx -+gamma*(phi**3-phi)*w*dx+ mu*w*dx-epsilon*grad(phi)*grad(w)*dx\n",
    "    A.Assemble()\n",
    "\n",
    "    \n",
    "    gfu = GridFunction(fes)\n",
    "    gfut = GridFunction(gfu.space, multidim = 0)\n",
    "    gfut.AddMultiDimComponent(gfu.vec)\n",
    "\n",
    "    L2_error = []\n",
    "    integral = []\n",
    "\n",
    "    t=0\n",
    "    while t<T:\n",
    "        t+=tau\n",
    "        rhs1 = phi_dt(t)-M*mu_lap() \n",
    "        rhs2 = mu_exact() - gamma*(phi_exact(t)**3 - phi_exact(t)) + epsilon*phi_lap(t)\n",
    "\n",
    "        #Defining Bilinear form\n",
    "        A = BilinearForm(fes)\n",
    "        A += phi*v*dx+tau*M*grad(mu)*grad(v)*dx -+gamma*(phi**3-phi)*w*dx+ mu*w*dx-epsilon*grad(phi)*grad(w)*dx- (tau*rhs1*v*dx+ phi_old*v*dx + rhs2*w*dx)\n",
    "        A.Assemble()\n",
    "            \n",
    "\n",
    "        #Solving for phi with Newton iterations\n",
    "        Newton(A,gfu,freedofs=gfu.space.FreeDofs(),maxit=10,maxerr=1e-11,inverse=\"umfpack\",dampfactor=1,printing=True)\n",
    "\n",
    "        e_h = gfu.components[0]-phi_exact(t)\n",
    "        norm = np.sqrt(Integrate(e_h*e_h,mesh))\n",
    "        L2_error.append(norm)\n",
    "        int_phi = Integrate(gfu.components[0],mesh)\n",
    "        L2_error.append(norm)\n",
    "        integral.append(int_phi)\n",
    "\n",
    "        #Storing and updating phi\n",
    "        gfut.AddMultiDimComponent(gfu.vec)\n",
    "        phi_old.vec.data = gfu.components[0].vec\n",
    "\n",
    "\n",
    "    return gfut,gfu, L2_error,integral"
   ]
  },
  {
   "cell_type": "code",
   "execution_count": 137,
   "metadata": {},
   "outputs": [
    {
     "name": "stdout",
     "output_type": "stream",
     "text": [
      "Newton iteration  0\n",
      "err =  1.1998063792343323\n",
      "Newton iteration  1\n",
      "err =  0.01791162790842874\n",
      "Newton iteration  2\n",
      "err =  9.69652166403846e-07\n",
      "Newton iteration  3\n",
      "err =  6.815585277806233e-14\n",
      "Newton iteration  0\n",
      "err =  0.3773547131652893\n",
      "Newton iteration  1\n",
      "err =  0.07205538458814581\n",
      "Newton iteration  2\n",
      "err =  4.347347341178928e-05\n",
      "Newton iteration  3\n",
      "err =  5.315878553636146e-09\n",
      "Newton iteration  4\n",
      "err =  1.277503116436981e-16\n",
      "Newton iteration  0\n",
      "err =  0.4708335868400096\n",
      "Newton iteration  1\n",
      "err =  0.12460061123520642\n",
      "Newton iteration  2\n",
      "err =  0.002755521807540824\n",
      "Newton iteration  3\n",
      "err =  0.00022676248518414078\n",
      "Newton iteration  4\n",
      "err =  2.8910591560257344e-06\n",
      "Newton iteration  5\n",
      "err =  4.1887442528321706e-10\n",
      "Newton iteration  6\n",
      "err =  1.7599089720104998e-16\n",
      "Newton iteration  0\n",
      "err =  0.5782106578467006\n",
      "Newton iteration  1\n",
      "err =  0.5371654627122616\n",
      "Newton iteration  2\n",
      "err =  0.16267468641230626\n",
      "Newton iteration  3\n",
      "err =  0.03162544385490555\n",
      "Newton iteration  4\n",
      "err =  0.7130349705413809\n",
      "Newton iteration  5\n",
      "err =  21.214311295698604\n",
      "Newton iteration  6\n",
      "err =  12.13659597664403\n",
      "Newton iteration  7\n",
      "err =  16.911784669133656\n",
      "Newton iteration  8\n",
      "err =  106.38659410470328\n",
      "Newton iteration  9\n",
      "err =  194.516886664175\n",
      "Warning: Newton might not converge! Error =  194.516886664175\n",
      "Newton iteration  0\n",
      "err =  2426.05589780291\n",
      "Newton iteration  1\n",
      "err =  2587.303744852753\n",
      "Newton iteration  2\n",
      "err =  1145.7970717622607\n",
      "Newton iteration  3\n",
      "err =  499.45132367450833\n",
      "Newton iteration  4\n",
      "err =  216.8258047879062\n",
      "Newton iteration  5\n",
      "err =  91.89796619062766\n",
      "Newton iteration  6\n",
      "err =  17.085793469099986\n",
      "Newton iteration  7\n",
      "err =  79.21043327420308\n",
      "Newton iteration  8\n",
      "err =  33.59033535677533\n",
      "Newton iteration  9\n",
      "err =  21.287971236469456\n",
      "Warning: Newton might not converge! Error =  21.287971236469456\n",
      "Newton iteration  0\n",
      "err =  16.530829080455533\n",
      "Newton iteration  1\n",
      "err =  11.372980814723007\n",
      "Newton iteration  2\n",
      "err =  3.601601616434546\n",
      "Newton iteration  3\n",
      "err =  1.2629817752144097\n",
      "Newton iteration  4\n",
      "err =  0.3872553705767671\n",
      "Newton iteration  5\n",
      "err =  0.06708972036922495\n",
      "Newton iteration  6\n",
      "err =  0.0026756475430628063\n",
      "Newton iteration  7\n",
      "err =  4.67855985601125e-06\n",
      "Newton iteration  8\n",
      "err =  1.5319247241093616e-11\n",
      "Newton iteration  9\n",
      "err =  5.917444058011634e-16\n",
      "Newton iteration  0\n",
      "err =  1.1674219446731693\n",
      "Newton iteration  1\n",
      "err =  0.7076632591377754\n",
      "Newton iteration  2\n",
      "err =  1.2950692238617438\n",
      "Newton iteration  3\n",
      "err =  0.41243746272914084\n",
      "Newton iteration  4\n",
      "err =  0.19743112774937754\n",
      "Newton iteration  5\n",
      "err =  2.0310503017651405\n",
      "Newton iteration  6\n",
      "err =  0.8111455847689886\n",
      "Newton iteration  7\n",
      "err =  0.33707859555359215\n",
      "Newton iteration  8\n",
      "err =  0.13038424349838368\n",
      "Newton iteration  9\n",
      "err =  0.039977331790190446\n",
      "Warning: Newton might not converge! Error =  0.039977331790190446\n",
      "Newton iteration  0\n",
      "err =  1.2557726352334522\n",
      "Newton iteration  1\n",
      "err =  1.9586521770208043\n",
      "Newton iteration  2\n",
      "err =  0.4574739874843025\n",
      "Newton iteration  3\n",
      "err =  0.05121269014979091\n",
      "Newton iteration  4\n",
      "err =  0.0015652789167731487\n",
      "Newton iteration  5\n",
      "err =  2.494091346025172e-06\n",
      "Newton iteration  6\n",
      "err =  6.9864736756475935e-12\n",
      "Newton iteration  0\n",
      "err =  0.4544049159180295\n",
      "Newton iteration  1\n",
      "err =  0.8959616981277978\n",
      "Newton iteration  2\n",
      "err =  0.8805825422412434\n",
      "Newton iteration  3\n",
      "err =  0.37625164315696613\n",
      "Newton iteration  4\n",
      "err =  0.12870112289393673\n",
      "Newton iteration  5\n",
      "err =  0.02496456065485188\n",
      "Newton iteration  6\n",
      "err =  0.001251788638997753\n",
      "Newton iteration  7\n",
      "err =  3.3760032446604713e-06\n",
      "Newton iteration  8\n",
      "err =  2.4592627641595078e-11\n",
      "Newton iteration  9\n",
      "err =  6.460817563192504e-16\n",
      "Newton iteration  0\n",
      "err =  1.609649767458433\n",
      "Newton iteration  1\n",
      "err =  44.97260628178989\n",
      "Newton iteration  2\n",
      "err =  17.049491514870738\n",
      "Newton iteration  3\n",
      "err =  7.480069433655941\n",
      "Newton iteration  4\n",
      "err =  3.284614242302784\n",
      "Newton iteration  5\n",
      "err =  1.4064464325064314\n",
      "Newton iteration  6\n",
      "err =  0.5283824156441953\n",
      "Newton iteration  7\n",
      "err =  0.13184933094888315\n",
      "Newton iteration  8\n",
      "err =  0.011543642496255974\n",
      "Newton iteration  9\n",
      "err =  0.00010067091488788691\n",
      "Warning: Newton might not converge! Error =  0.00010067091488788691\n",
      "Newton iteration  0\n",
      "err =  1.0218687528698385\n",
      "Newton iteration  1\n",
      "err =  1.05612688423117\n",
      "Newton iteration  2\n",
      "err =  0.10068890872495802\n",
      "Newton iteration  3\n",
      "err =  0.004139928236378574\n",
      "Newton iteration  4\n",
      "err =  1.3606707872385728e-05\n",
      "Newton iteration  5\n",
      "err =  2.537228033170196e-10\n",
      "Newton iteration  6\n",
      "err =  4.248817013188374e-16\n"
     ]
    }
   ],
   "source": [
    "\n",
    "#Defining trial and test functions\n",
    "phi,mu = fes.TrialFunction()  #n+1\n",
    "v,w = fes.TestFunction()\n",
    "\n",
    "#Initialising phi_0 random values between -1 and 1\n",
    "phi_old = GridFunction(V)\n",
    "#random_values = np.random.uniform(-1, 1, V.ndof)\n",
    "random_values= np.zeros(V.ndof)\n",
    "phi_old.vec.data = random_values\n",
    "\n",
    "gfut,gfu, L2_error, integral = FullyImplicitScheme(mesh,fes,phi,mu,v,w,phi_old,epsilon,gamma,M,tau,T)\n",
    "#Draw(gfut.components[0], mesh, interpolate_multidim = True, animate = True)"
   ]
  },
  {
   "cell_type": "code",
   "execution_count": 138,
   "metadata": {},
   "outputs": [
    {
     "data": {
      "image/png": "[encoded data removed]",
      "text/plain": [
       "<Figure size 1000x600 with 1 Axes>"
      ]
     },
     "metadata": {},
     "output_type": "display_data"
    }
   ],
   "source": [
    "size = len(integral)\n",
    "time = np.linspace(0,T,size)\n",
    "\n",
    "\n",
    "plt.figure(figsize=(10, 6))\n",
    "plt.plot(time,integral)\n",
    "plt.xlabel('Time')\n",
    "plt.ylabel('Phi')\n",
    "plt.title('Integral of phi over time')\n",
    "plt.grid(True)\n",
    "plt.show()\n"
   ]
  },
  {
   "attachments": {},
   "cell_type": "markdown",
   "metadata": {},
   "source": [
    "### Convergence Analysis"
   ]
  },
  {
   "cell_type": "code",
   "execution_count": 139,
   "metadata": {},
   "outputs": [
    {
     "name": "stdout",
     "output_type": "stream",
     "text": [
      "       tau    maxh  L2_error\n",
      "0   0.1000  0.1000  0.591683\n",
      "1   0.0500  0.1000  0.559454\n",
      "2   0.0250  0.1000  0.615345\n",
      "3   0.0125  0.1000  0.639147\n",
      "4   0.1000  0.0500  0.503293\n",
      "5   0.0500  0.0500  0.502808\n",
      "6   0.0250  0.0500  0.566274\n",
      "7   0.0125  0.0500  0.614377\n",
      "8   0.1000  0.0250  0.495548\n",
      "9   0.0500  0.0250  0.403342\n",
      "10  0.0250  0.0250  0.558942\n",
      "11  0.0125  0.0250  0.589380\n",
      "12  0.1000  0.0125  0.492043\n",
      "13  0.0500  0.0125  0.385624\n",
      "14  0.0250  0.0125  0.525137\n",
      "15  0.0125  0.0125  0.565048\n"
     ]
    }
   ],
   "source": [
    "#Defining Parameters\n",
    "#Defining parameters\n",
    "epsilon = 0.02\n",
    "gamma = 50\n",
    "M = 1e-3\n",
    "order = 1     \n",
    "T = 1\n",
    "\n",
    "N = np.array([1,2,3,4])\n",
    "H = 0.2*2.0**(-N)\n",
    "Tau = H\n",
    "\n",
    "L2 = []\n",
    "Ints = []\n",
    "\n",
    "for maxh in H:\n",
    "    for tau in Tau:\n",
    "        #Defining mesh and Finite element space\n",
    "        mesh = Mesh(unit_square.GenerateMesh(maxh=maxh))\n",
    "        V = H1(mesh, order=1) \n",
    "        fes = V*V \n",
    "\n",
    "        #Defining trial and test functions\n",
    "        phi,mu = fes.TrialFunction() \n",
    "        v,w = fes.TestFunction()\n",
    "\n",
    "        #Initialising phi_0 \n",
    "        phi_old = GridFunction(V)\n",
    "        initial_values = np.zeros(V.ndof)\n",
    "        phi_old.vec.data = initial_values\n",
    "\n",
    "        gfut,gfu,L2_error,integral = FullyExplicitScheme(mesh,fes,phi,mu,v,w,phi_old,epsilon,gamma,M,tau,T)\n",
    "        L2.append([tau, maxh, L2_error[-1]])\n",
    "       \n",
    "import pandas as pd\n",
    "\n",
    "\n",
    "df = pd.DataFrame(L2, columns=[\"tau\", \"maxh\", \"L2_error\"])\n",
    "print(df)"
   ]
  },
  {
   "cell_type": "code",
   "execution_count": 140,
   "metadata": {},
   "outputs": [
    {
     "data": {
      "image/png": "[encoded data removed]",
      "text/plain": [
       "<Figure size 1000x600 with 1 Axes>"
      ]
     },
     "metadata": {},
     "output_type": "display_data"
    }
   ],
   "source": [
    "import matplotlib.pyplot as plt\n",
    "\n",
    "\n",
    "plt.figure(figsize=(10, 6))\n",
    "for tau in df['tau'].unique():\n",
    "    df_tau = df[df['tau'] == tau]\n",
    "    plt.plot(df_tau['maxh'], df_tau['L2_error'], marker='o', label=f'tau = {tau:.3f}')\n",
    "plt.xlabel('maxh')\n",
    "plt.ylabel('L2 Error')\n",
    "plt.title('L2 Error vs maxh ')\n",
    "plt.legend(title=\"Time step tau\")\n",
    "plt.grid(True)\n",
    "plt.show()\n"
   ]
  },
  {
   "attachments": {},
   "cell_type": "markdown",
   "metadata": {},
   "source": [
    "### Task 2.5 - Time adaptivity"
   ]
  }
 ],
 "metadata": {
  "kernelspec": {
   "display_name": "Python 3",
   "language": "python",
   "name": "python3"
  },
  "language_info": {
   "codemirror_mode": {
    "name": "ipython",
    "version": 3
   },
   "file_extension": ".py",
   "mimetype": "text/x-python",
   "name": "python",
   "nbconvert_exporter": "python",
   "pygments_lexer": "ipython3",
   "version": "3.10.10"
  },
  "orig_nbformat": 4,
  "vscode": {
   "interpreter": {
    "hash": "bd385fe162c5ca0c84973b7dd5c518456272446b2b64e67c2a69f949ca7a1754"
   }
  }
 },
 "nbformat": 4,
 "nbformat_minor": 2
}
