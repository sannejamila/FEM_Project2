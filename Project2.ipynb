{
 "cells": [
  {
   "attachments": {},
   "cell_type": "markdown",
   "metadata": {},
   "source": [
    "# Project 2 TMA4220\n",
    "## Option 2: Cahn-Hilliard equation\n",
    "\n",
    "We have the following 2D partial differential equation, called the Cahn-Hilliard equation\n",
    "\n",
    "$$\n",
    "\\partial_t \\phi = \\nabla \\cdot [M\\nabla(\\gamma(\\phi^3-\\phi)-\\epsilon \\Delta \\phi)] \\ \\ \\ \\ in \\ \\  \\Omega \\times [0,T]\n",
    "$$\n",
    "\n",
    "Where $M, \\epsilon > 0$.\n",
    "\n",
    "The PDE is a fourth order parabolic equation. Due to this compelixity, we introduce a new variable $\\mu$ in order to split the problem into two coupled second-order problems. The problem can thus be rewritten as the following problem.\n",
    "\n",
    "$$\n",
    "\\begin{aligned}\n",
    "\\partial_t \\phi &= \\nabla \\cdot [M\\nabla \\mu] \\ \\ \\ \\ in \\ \\  \\Omega \\times [0,T] \\\\\n",
    "\\mu &= \\gamma(\\phi^3-\\phi)-\\epsilon \\Delta \\phi \\ \\ \\ \\ in \\ \\  \\Omega \\times [0,T] \n",
    "\\end{aligned}\n",
    "$$\n",
    "\n",
    "The variable $\\mu$ can be identified as the chemical potential driving the evolution of the equation. "
   ]
  },
  {
   "attachments": {},
   "cell_type": "markdown",
   "metadata": {},
   "source": [
    "### Task 2.2 - Weak formulation\n"
   ]
  },
  {
   "attachments": {},
   "cell_type": "markdown",
   "metadata": {},
   "source": [
    "### Task 2.3 - Fully discrete schemes"
   ]
  },
  {
   "attachments": {},
   "cell_type": "markdown",
   "metadata": {},
   "source": [
    "### Task 2.4 - Convergence and conservation properties"
   ]
  },
  {
   "attachments": {},
   "cell_type": "markdown",
   "metadata": {},
   "source": [
    "### Task 2.5 - Time adaptivity"
   ]
  }
 ],
 "metadata": {
  "language_info": {
   "name": "python"
  },
  "orig_nbformat": 4
 },
 "nbformat": 4,
 "nbformat_minor": 2
}
