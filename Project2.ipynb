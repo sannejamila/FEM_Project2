{
 "cells": [
  {
   "attachments": {},
   "cell_type": "markdown",
   "metadata": {},
   "source": [
    "# Project 2 TMA4220\n",
    "## Option 2: Cahn-Hilliard equation\n",
    "\n",
    "We have the following 2D partial differential equation, called the Cahn-Hilliard equation:\n",
    "\n",
    "$$\n",
    "\\partial_t \\phi = \\nabla \\cdot [M\\nabla(\\gamma(\\phi^3-\\phi)-\\epsilon \\Delta \\phi)] \\ \\ \\ \\ in \\ \\  \\Omega \\times [0,T]\n",
    "$$\n",
    "\n",
    "Where $M, \\epsilon > 0$.\n",
    "\n",
    "The PDE is a fourth order parabolic equation. Due to this complexity, we introduce a new variable $\\mu$ in order to split the problem into two coupled second-order problems. The problem can thus be rewritten as the following problem:\n",
    "\n",
    "$$\n",
    "\\begin{aligned}\n",
    "\\partial_t \\phi &= \\nabla \\cdot [M\\nabla \\mu] \\ \\ \\ \\ in \\ \\  \\Omega \\times [0,T] \\\\\n",
    "\\mu &= \\gamma(\\phi^3-\\phi)-\\epsilon \\Delta \\phi \\ \\ \\ \\ in \\ \\  \\Omega \\times [0,T] \n",
    "\\end{aligned}\n",
    "$$\n",
    "\n",
    "The variable $\\mu$ can be identified as the chemical potential driving the evolution of the equation. "
   ]
  },
  {
   "attachments": {},
   "cell_type": "markdown",
   "metadata": {},
   "source": [
    "### Task 2.2 - Weak formulation\n",
    "\n",
    "#### Weak formulation and boundary conditions\n",
    "\n",
    "Firstly, we want to derive the following weak formulation\n",
    "\n",
    "$$\n",
    "\\begin{aligned}\n",
    "(\\partial_t \\phi,v) + (M\\nabla \\mu, \\nabla v) = 0 \\ \\ \\ \\ \\forall v \\in \\mathbb{V} \\\\\n",
    "(\\mu,w)-(\\gamma (\\phi^3 -\\phi),w)-(\\epsilon \\nabla \\phi, \\nabla w) &= 0 \\ \\ \\ \\  \\forall w \\in \\mathbb{V} \n",
    "\\end{aligned}\n",
    "$$\n",
    "\n",
    "In order to allow such a derivation, one needs to define the boundary conditions that results in this weak form. \n",
    "\n",
    "Consider the first equation, $\\partial_t \\phi = \\nabla \\cdot [M\\nabla \\mu]$ in $\\Omega \\times [0,T]$. We start by multiplying our expression by a test function $v \\in \\mathbb{V}$ and integrating over our domain $\\Omega$. Thus we obtain the following equation\n",
    "\n",
    "$$\n",
    "\\int_\\Omega \\partial_t \\phi \\cdot v \\ dx = \\int_\\Omega \\nabla \\cdot (M \\nabla \\mu) \\cdot v \\ dx \n",
    "$$\n",
    "\n",
    "Now, recall the Divergence theorem.\n",
    "\n",
    "The **Divergence Theorem** states that for a vector field $\\mathbf{F}$ defined on a region $\\Omega$ with boundary $\\partial \\Omega$, we have:\n",
    "\n",
    "$$\n",
    "\\int_\\Omega \\nabla \\cdot \\mathbf{F} \\, dx = \\int_{\\partial \\Omega} \\mathbf{F} \\cdot n \\, dS,\n",
    "$$\n",
    "\n",
    "where $n$ is the outward-pointing unit normal vector on the boundary $\\partial \\Omega$.\n",
    "\n",
    "Applying the Divergence Theorem to our expression, we obtain \n",
    "\n",
    "$$\n",
    "\\int_\\Omega \\nabla \\cdot (M \\nabla \\mu) \\, v \\, dx = -\\int_\\Omega M \\nabla \\mu \\cdot \\nabla v \\, dx + \\int_{\\partial \\Omega} M \\nabla \\mu \\cdot n \\, v \\, dS.\n",
    "$$\n",
    "\n",
    "By assuming homogenous Neumann boundary conditions, i.e $\\nabla \\mu \\cdot n = 0 $ on $\\partial \\Omega$, our expression can be written as\n",
    "\n",
    "$$\n",
    "\\int_\\Omega \\partial_t \\phi \\cdot v \\ dx + \\int_\\Omega  M\\nabla \\mu \\cdot \\nabla v \\ dx = 0\n",
    "$$\n",
    "\n",
    "Which can be further rewritten as $(\\partial_t \\phi,v) + (M\\nabla \\mu, \\nabla v) = 0 \\ \\ \\ \\ \\forall v \\in \\mathbb{V}$.\n",
    "\n",
    "Now consider the second equation, $\\mu = \\gamma(\\phi^3-\\phi)-\\epsilon \\Delta \\phi$ in $\\Omega \\times [0,T] $. We follow the same approach as for the first equation. We start by multiplying our expression by a test function $w \\in \\mathbb{V}$ and integrating over our domain $\\Omega$. Thus we obtain the following equation\n",
    "\n",
    "$$\n",
    "\\int_\\Omega \\mu \\cdot w \\ dx= \\int_\\Omega \\gamma (\\phi^3-\\phi) \\cdot w \\ dx - \\int_\\Omega \\epsilon \\Delta \\phi \\cdot w \\ dx \n",
    "$$\n",
    "\n",
    "Consider the term $\\int_\\Omega \\epsilon \\Delta \\phi \\cdot w \\ dx $. By integration by parts, we obtain\n",
    "\n",
    "$$\n",
    "\\int_\\Omega \\epsilon \\Delta \\phi \\cdot w \\ dx  = -\\int_\\Omega \\epsilon \\nabla \\phi \\cdot \\nabla w \\ dx + \\int_ {\\partial \\Omega} \\epsilon \\nabla \\phi \\cdot n \\cdot w \\ dS\n",
    "$$\n",
    "\n",
    "Inserting this expression into our variational form, such that we obtain\n",
    "\n",
    "$$\n",
    "\\int_\\Omega \\mu \\cdot w \\ dx= \\int_\\Omega \\gamma (\\phi^3-\\phi) \\cdot w \\ dx + \\int_\\Omega \\epsilon \\nabla \\phi \\cdot \\nabla w \\ dx - \\int_ {\\partial \\Omega} \\epsilon \\nabla \\phi \\cdot n \\cdot w \\ dS\n",
    "$$\n",
    "\n",
    "By assuming homogenous Neumann boundary conditions for $\\phi$ on $\\partial \\Omega$, i.e $\\nabla \\phi \\cdot n = 0$ on $\\partial \\Omega$, we can rewrite our expression as\n",
    "\n",
    "$$\n",
    "\\int_\\Omega \\mu \\cdot w \\ dx= \\int_\\Omega \\gamma (\\phi^3-\\phi) \\cdot w \\ dx + \\int_\\Omega \\epsilon \\nabla \\phi \\cdot \\nabla w \\ dx \n",
    "$$\n",
    "\n",
    "Which can further be rewritten as $(\\mu,w)-(\\gamma (\\phi^3 -\\phi),w)-(\\epsilon \\nabla \\phi, \\nabla w) = 0 \\ \\ \\ \\  \\forall w \\in \\mathbb{V}$, which is our desired result.\n",
    "\n",
    "Thus we need homogenous Neumann condtions on both of our equations to obtain the desired weak form, $\\nabla \\mu \\cdot n = 0$ and $\\nabla \\phi \\cdot n = 0$ on $\\partial \\Omega$."
   ]
  },
  {
   "attachments": {},
   "cell_type": "markdown",
   "metadata": {},
   "source": [
    "#### Conservation of total mass in time\n",
    "\n",
    "Now that we have derived the weak formulation of our problem, we want to prove that under these conditions, the total mass is conserved in time, i.e that $\\int_\\Omega \\phi (x,t) \\ dx = C$.\n",
    "\n",
    "In order for the total mass $\\int_\\Omega \\phi (x,t) \\ dx$ to be conserved in time, its derivative with respect to the time $t$ needs to be zero, i.e $\\frac{\\partial}{\\partial t} \\int_\\Omega \\phi (x,t) \\ dx = 0$.\n",
    "\n",
    "By inserting the right hand side of our first second order PDE, $\\partial_t \\phi = \\nabla \\cdot [M\\nabla \\mu]$ in $\\Omega \\times [0,T] $, we obtain the following\n",
    "\n",
    "\n",
    "$$\n",
    "\\frac{\\partial}{\\partial t} \\int_\\Omega \\phi (x,t) \\ dx = \\int_\\Omega \\partial_t \\phi (x,t) = \\int_\\Omega  \\nabla \\cdot [M\\nabla \\mu] \\ dx\n",
    "$$\n",
    "\n",
    "By applying the Divergence theorem, we further obtain \n",
    "\n",
    "$$\n",
    "\\int_\\Omega \\partial_t \\phi (x,t) = \\int_\\Omega  \\nabla \\cdot [M\\nabla \\mu] \\ dx =  \\int_{ \\partial \\Omega} M\\nabla \\mu \\cdot n \\ ds\n",
    "$$\n",
    "\n",
    "Recall our first boundary condition,  $\\nabla \\mu \\cdot n = 0 $ on $\\partial \\Omega$. We observe that the boundary conditions results in the term  $\\int_{ \\partial \\Omega} M\\nabla \\mu \\cdot n \\ ds$ vanishing, thus obtaining\n",
    "\n",
    "$$\n",
    "\\int_\\Omega \\partial_t \\phi (x,t) = 0\n",
    "$$\n",
    "\n",
    "Meaning that the total mass is conserved in time, which is our desired result. \n"
   ]
  },
  {
   "attachments": {},
   "cell_type": "markdown",
   "metadata": {},
   "source": [
    "#### Energy dissipation in time\n",
    "We now want to show that the energy $E(\\phi(t)) = \\int_\\Omega \\frac{\\epsilon}{2} \\mid \\nabla \\phi \\mid^2 + \\frac{\\gamma}{4}(\\phi^2-1)^2 \\ dx$ is decreasing in time under our boundary conditions, i.e, we simply need to show that\n",
    "\n",
    "$$\n",
    "\\frac{\\partial}{\\partial t} E(\\phi(t)) < 0\n",
    "$$\n",
    "\n",
    "We have that \n",
    "\n",
    "$$\n",
    "\\frac{\\partial}{\\partial t} E(\\phi(t)) = \\frac{\\partial}{\\partial t} \\int_\\Omega \\frac{\\epsilon}{2} \\mid \\nabla \\phi \\mid^2 + \\frac{\\gamma}{4}(\\phi^2-1)^2 \\ dx \n",
    "$$\n",
    "\n",
    "By using the product rule and the chain rule, and the integrating by parts, we obtain the following\n",
    "\n",
    "$$\n",
    "\\frac{\\partial}{\\partial t} E(\\phi(t)) = \\int_\\Omega (\\epsilon \\nabla \\phi \\cdot \\nabla (\\partial_t \\phi) + \\gamma (\\phi^3-\\phi) \\partial_t \\phi) \\ dx \n",
    "= \\int_\\Omega (-\\epsilon \\Delta \\phi + \\gamma (\\phi^3-\\phi)) \\partial_t \\phi \\ dx \n",
    "$$\n",
    "\n",
    "Observe that from our second order PDE, we have the relation $\\mu = \\gamma (\\phi^3- \\phi)-\\epsilon \\Delta \\phi$, thus we can simply insert $\\mu$ into our expression, obtaining\n",
    "$$\n",
    "\\frac{\\partial}{\\partial t} E(\\phi(t)) = \\int_\\Omega \\mu \\partial_t \\phi \\ dx \n",
    "$$\n",
    "\n",
    "We also have the relation $\\phi_t = \\nabla \\cdot (M \\nabla \\mu)$ from our second order PDE. By inserting this into our expression, we obtain\n",
    "\n",
    "$$\n",
    "\\frac{\\partial}{\\partial t} E(\\phi(t)) = \\int_\\Omega \\mu \\nabla \\cdot (M \\nabla \\mu)\\ dx \n",
    "$$\n",
    "\n",
    "By applying the Divergence theorem, we obtain\n",
    "\n",
    "$$\n",
    "\\frac{\\partial}{\\partial t} E(\\phi(t)) = -\\int_\\Omega  M \\mid \\nabla \\mu \\mid ^2 \\ dx + \\int_{\\partial \\Omega} M \\mu \\nabla \\mu \\cdot n \\ dS\n",
    "$$\n",
    "\n",
    "Where our last term vanishes due to our boundary conditions. As $ M > 0$ and $\\mid \\nabla \\mu \\mid ^2  \\ge 0$, we have\n",
    "\n",
    "$$\n",
    "\\frac{\\partial}{\\partial t} E(\\phi(t)) = -\\int_\\Omega  M \\mid \\nabla \\mu \\mid ^2 \\ dx < 0\n",
    "$$\n",
    "\n",
    "Meaning that the energy is decreasing in time when we apply the boundary condtions we derived earlier, which is what we wanted to show."
   ]
  },
  {
   "attachments": {},
   "cell_type": "markdown",
   "metadata": {},
   "source": [
    "### Task 2.3 - Fully discrete schemes"
   ]
  },
  {
   "attachments": {},
   "cell_type": "markdown",
   "metadata": {},
   "source": [
    "We now want to implement numerical solvers in order to solve the system:\n",
    "\n",
    "$$\n",
    "\\begin{aligned}\n",
    "(\\partial_t \\phi,v) + (M\\nabla \\mu, \\nabla v) = (f,v)\\ \\ \\ \\ \\forall v \\in \\mathbb{V} \\\\\n",
    "(\\mu,w)-(\\gamma (\\phi^3 -\\phi),w)-(\\epsilon \\nabla \\phi, \\nabla w) &= (g,w) \\ \\ \\ \\  \\forall w \\in \\mathbb{V} \n",
    "\\end{aligned}\n",
    "$$\n",
    "\n",
    "For given right hand sides $f$ and $g$. \n",
    "\n",
    "Due to the time dependence of $\\phi$ and $\\mu$, one needs to discretize these in time in order to implement a numeric solver for the PDE. For this project, we experiment with three different numerical schemes for time discretization."
   ]
  },
  {
   "cell_type": "code",
   "execution_count": null,
   "metadata": {},
   "outputs": [],
   "source": [
    "import random\n",
    "import math\n",
    "import numpy as np\n",
    "import pandas as pd\n",
    "import matplotlib.pyplot as plt\n",
    "from ngsolve import *\n",
    "from ngsolve.webgui import Draw\n",
    "from ngsolve.solvers import *"
   ]
  },
  {
   "attachments": {},
   "cell_type": "markdown",
   "metadata": {},
   "source": [
    "The values of $\\epsilon$ and $\\gamma$ where given in the project description. By experimenting with different values of $M$, $M = 7 \\cdot 10^{-5}$ seemed to produce the most stable results for my chosen manufactured solutions. For the first experiments I simply chose the time step size $\\tau = 0.1$ and the length between each nodes as $maxh = 0.01$. I chose to look at the time interval $[0,1]$ for all my experiments.\n",
    "For simplicty later on in the convergence analysis, I have chosen to only use first order (linear) polynomials as basis functions for our finite element space. "
   ]
  },
  {
   "cell_type": "code",
   "execution_count": null,
   "metadata": {},
   "outputs": [],
   "source": [
    "#Defining parameters\n",
    "epsilon = 0.02\n",
    "gamma = 50\n",
    "M = 0.7*1e-4\n",
    "maxh = 0.01 \n",
    "order = 1\n",
    "tau = 0.1            \n",
    "T = 1"
   ]
  },
  {
   "attachments": {},
   "cell_type": "markdown",
   "metadata": {},
   "source": [
    "#### Fully Explicit Scheme\n",
    "\n",
    "We start by implementing the fully explicit scheme.\n",
    "\n",
    "$$\n",
    "\\begin{aligned}\n",
    "(\\frac{\\phi^{n+1}-\\phi^n}{\\tau},v) + (M\\nabla \\mu^{n+1}, \\nabla v) &= f\\ \\ \\ \\ \\forall v \\in \\mathbb{V} \\\\\n",
    "(\\mu^{n+1},w)-(\\epsilon \\nabla \\phi^{n+1}, \\nabla w) \n",
    "&= (\\gamma ((\\phi^n)^3 -\\phi^n),w) + g \\ \\ \\ \\  \\forall w \\in \\mathbb{V} \n",
    "\\end{aligned}\n",
    "$$\n"
   ]
  },
  {
   "cell_type": "code",
   "execution_count": null,
   "metadata": {},
   "outputs": [],
   "source": [
    "def FullyExplicitScheme(mesh,fes,phi,mu,v,w,phi_old,epsilon,gamma,M,tau,T):\n",
    "\n",
    "    #Defining Bilinear form\n",
    "    A = BilinearForm(fes)\n",
    "    A += phi*v*dx+tau*M*grad(mu)*grad(v)*dx + mu*w*dx-epsilon*grad(phi)*grad(w)*dx\n",
    "    A.Assemble()\n",
    "\n",
    "    gfu = GridFunction(fes)\n",
    "    gfut = GridFunction(gfu.space, multidim = 0)\n",
    "    gfut.AddMultiDimComponent(gfu.vec)\n",
    "\n",
    "    L2_error = []\n",
    "    integral = []\n",
    "    energy = []\n",
    "\n",
    "    t=0\n",
    "    while t<T:\n",
    "        t+=tau\n",
    "        rhs1 = phi_dt(t)-M*mu_lap() \n",
    "        rhs2 = mu_exact() - gamma*(phi_exact(t)**3 - phi_exact(t)) + epsilon*phi_lap(t)\n",
    "            \n",
    "        #Defining linear form\n",
    "        f=LinearForm(fes)\n",
    "        f+= tau*rhs1*v*dx+ phi_old*v*dx+gamma*(phi_old**3-phi_old)*w*dx + rhs2*w*dx\n",
    "        f.Assemble()\n",
    "\n",
    "        #Solving for phi\n",
    "        gfu.vec.data = A.mat.Inverse(freedofs = fes.FreeDofs())*f.vec\n",
    "\n",
    "        #Computing L2 error, total mass and energy \n",
    "        e_h = gfu.components[0]-phi_exact(t)\n",
    "        norm = np.sqrt(Integrate(e_h*e_h,mesh))\n",
    "        L2_error.append(norm)\n",
    "        int_phi = Integrate(gfu.components[0],mesh)\n",
    "        E = Integrate(epsilon/2*(grad(gfu.components[0])**2)+gamma/4*(gfu.components[0]**2-1)**2,mesh)\n",
    "        L2_error.append(norm)\n",
    "        integral.append(int_phi)\n",
    "        energy.append(E)\n",
    "\n",
    "        #Storing and updating phi\n",
    "        gfut.AddMultiDimComponent(gfu.vec)\n",
    "        phi_old.vec.data = gfu.components[0].vec\n",
    "\n",
    "\n",
    "    return gfut,gfu, L2_error, integral,energy"
   ]
  },
  {
   "attachments": {},
   "cell_type": "markdown",
   "metadata": {},
   "source": [
    "#### Implicit-Explicit (IMEX) Scheme\n",
    "\n",
    "The IMEX scheme is defined as follows\n",
    "\n",
    "$$\n",
    "\\begin{aligned}\n",
    "(\\frac{\\phi^{n+1}-\\phi^n}{\\tau},v) + (M\\nabla \\mu^{n+1}, \\nabla v) &= f\\ \\ \\ \\ \\forall v \\in \\mathbb{V} \\\\\n",
    "(\\mu^{n+1},w)-(\\gamma ((\\phi^n)^2 -1)\\phi^{n+1},w)-(\\epsilon \\nabla \\phi^{n+1}, \\nabla w) \n",
    "&=  g \\ \\ \\ \\  \\forall w \\in \\mathbb{V} \n",
    "\\end{aligned}\n",
    "$$\n"
   ]
  },
  {
   "cell_type": "code",
   "execution_count": null,
   "metadata": {},
   "outputs": [],
   "source": [
    "def IMEXScheme(mesh,fes,phi,mu,v,w,phi_old,epsilon,gamma,M,tau,T):\n",
    "    \n",
    "    gfu = GridFunction(fes)\n",
    "    gfut = GridFunction(gfu.space, multidim = 0)\n",
    "    gfut.AddMultiDimComponent(gfu.vec)\n",
    "    L2_error = []\n",
    "    integral = []\n",
    "    energy=[]\n",
    "    \n",
    "    t=0\n",
    "\n",
    "    A = BilinearForm(fes)\n",
    "    A += phi*v*dx+tau*M*grad(mu)*grad(v)*dx -gamma*(phi_old**2-1)*phi*w*dx+ mu*w*dx-epsilon*grad(phi)*grad(w)*dx\n",
    "    while t<T:\n",
    "        t+=tau\n",
    "        A.Assemble()\n",
    "\n",
    "        rhs1 = phi_dt(t)-M*mu_lap() \n",
    "        rhs2 = mu_exact() - gamma*(phi_exact(t)**3 - phi_exact(t)) + epsilon*phi_lap(t)\n",
    "            \n",
    "        #Defining linear form\n",
    "        f=LinearForm(fes)\n",
    "        f+= tau*rhs1*v*dx+ phi_old*v*dx + rhs2*w*dx\n",
    "        f.Assemble()\n",
    "\n",
    "        #Solving for phi\n",
    "        gfu.vec.data = A.mat.Inverse(freedofs = fes.FreeDofs())*f.vec\n",
    "\n",
    "        #Computing L2 error, total mass and energy \n",
    "        e_h = gfu.components[0]-phi_exact(t)\n",
    "        norm = np.sqrt(Integrate(e_h*e_h,mesh))\n",
    "        L2_error.append(norm)\n",
    "        int_phi = Integrate(gfu.components[0],mesh)\n",
    "        E = Integrate(epsilon/2*(grad(gfu.components[0])**2)+gamma/4*(gfu.components[0]**2-1)**2,mesh)\n",
    "        L2_error.append(norm)\n",
    "        integral.append(int_phi)\n",
    "        energy.append(E)\n",
    "\n",
    "        #Storing and updating phi\n",
    "        gfut.AddMultiDimComponent(gfu.vec)\n",
    "        phi_old.vec.data = gfu.components[0].vec\n",
    "\n",
    "    return gfut,gfu, L2_error, integral,energy"
   ]
  },
  {
   "attachments": {},
   "cell_type": "markdown",
   "metadata": {},
   "source": [
    "#### Fully Implicit Scheme\n",
    "\n",
    "The fully implicit scheme is defined as follows\n",
    "\n",
    "$$\n",
    "\\begin{aligned}\n",
    "(\\frac{\\phi^{n+1}-\\phi^n}{\\tau},v) + (M\\nabla \\mu^{n+1}, \\nabla v) &= f\\ \\ \\ \\ \\forall v \\in \\mathbb{V} \\\\\n",
    "(\\mu^{n+1},w)-(\\gamma ((\\phi^{n+1})^3 -\\phi^{n+1}),w)-(\\epsilon \\nabla \\phi^{n+1}, \\nabla w) \n",
    "&=  g \\ \\ \\ \\  \\forall w \\in \\mathbb{V} \n",
    "\\end{aligned}\n",
    "$$"
   ]
  },
  {
   "cell_type": "code",
   "execution_count": null,
   "metadata": {},
   "outputs": [],
   "source": [
    "def FullyImplicitScheme(mesh,fes,phi,mu,v,w,phi_old,epsilon,gamma,M,tau,T):\n",
    "    \n",
    "    gfu = GridFunction(fes)\n",
    "    gfut = GridFunction(gfu.space, multidim = 0)\n",
    "    gfut.AddMultiDimComponent(gfu.vec)\n",
    "\n",
    "    L2_error = []\n",
    "    integral = []\n",
    "    energy = []\n",
    "\n",
    "    t=0\n",
    "    while t<T:\n",
    "        t+=tau\n",
    "        rhs1 = phi_dt(t)-M*mu_lap() \n",
    "        rhs2 = mu_exact() - gamma*(phi_exact(t)**3 - phi_exact(t)) + epsilon*phi_lap(t)\n",
    "\n",
    "        #Defining Bilinear form\n",
    "        A = BilinearForm(fes)\n",
    "        A += phi*v*dx+tau*M*grad(mu)*grad(v)*dx -gamma*(phi**3-phi)*w*dx+ mu*w*dx-epsilon*grad(phi)*grad(w)*dx- (tau*rhs1*v*dx+ phi_old*v*dx + rhs2*w*dx)\n",
    "        A.Assemble()\n",
    "            \n",
    "\n",
    "        #Solving for phi with Newton iterations\n",
    "        Newton(A,gfu,freedofs=gfu.space.FreeDofs(),maxit=10,maxerr=1e-11,inverse=\"umfpack\",dampfactor=1,printing=False)\n",
    "\n",
    "        #Computing L2 error, total mass and energy \n",
    "        e_h = gfu.components[0]-phi_exact(t)\n",
    "        norm = np.sqrt(Integrate(e_h*e_h,mesh))\n",
    "        L2_error.append(norm)\n",
    "        int_phi = Integrate(gfu.components[0],mesh)\n",
    "        E = Integrate(epsilon/2*(grad(gfu.components[0])**2)+gamma/4*(gfu.components[0]**2-1)**2,mesh)\n",
    "        L2_error.append(norm)\n",
    "        integral.append(int_phi)\n",
    "        energy.append(E)\n",
    "\n",
    "        #Storing and updating phi\n",
    "        gfut.AddMultiDimComponent(gfu.vec)\n",
    "        phi_old.vec.data = gfu.components[0].vec\n",
    "\n",
    "\n",
    "    return gfut,gfu, L2_error,integral, energy"
   ]
  },
  {
   "attachments": {},
   "cell_type": "markdown",
   "metadata": {},
   "source": [
    "#### Testing schemes for  Homogeneous Right-Hand Sides, $f = 0$ and $g = 0$\n",
    "\n",
    "In order to test our numerical schemes for homogenous right hand sides $f$ and $g$, we solely define our analytical solutions for $\\phi$ and $\\mu$ as zero, to obtain zero right hand sides in our solver. Thus the computed $L^2$ error in our solver is not relevant for this exact computation, but we can still examine the numerical solutions produced by each scheme to observe their behavior under these conditions. The total mass and energy computation will also contribute in understanding the behaviour of each numerical scheme."
   ]
  },
  {
   "cell_type": "code",
   "execution_count": null,
   "metadata": {},
   "outputs": [],
   "source": [
    "def phi_exact(t):\n",
    "    return 0\n",
    "\n",
    "def phi_dt(t):\n",
    "    return 0\n",
    "\n",
    "def phi_lap(t):\n",
    "    return 0\n",
    "\n",
    "def mu_exact():\n",
    "    return 0\n",
    "\n",
    "def mu_lap():\n",
    "    return 0"
   ]
  },
  {
   "cell_type": "code",
   "execution_count": null,
   "metadata": {},
   "outputs": [],
   "source": [
    "#Defining mesh and Finite element space\n",
    "mesh = Mesh(unit_square.GenerateMesh(maxh=maxh))\n",
    "V = H1(mesh, order=order) \n",
    "fes = V*V \n",
    "\n",
    "#Defining trial and test functions\n",
    "phi,mu = fes.TrialFunction()  #n+1\n",
    "v,w = fes.TestFunction()\n",
    "\n",
    "#Initialising phi_0 random values between -1 and 1\n",
    "phi_old = GridFunction(V)\n",
    "initial_values = np.random.uniform(-1,1,V.ndof)\n",
    "phi_old.vec.data = initial_values"
   ]
  },
  {
   "cell_type": "code",
   "execution_count": null,
   "metadata": {},
   "outputs": [],
   "source": [
    "gfut,gfu,L2_error,Explicit_integral,Explicit_energy = FullyExplicitScheme(mesh,fes,phi,mu,v,w,phi_old,epsilon,gamma,M,tau,T)\n",
    "Draw(gfut.components[0], mesh, interpolate_multidim = True, animate = True)"
   ]
  },
  {
   "cell_type": "code",
   "execution_count": null,
   "metadata": {},
   "outputs": [],
   "source": [
    "gfut,gfu,L2_error,IMEX_integral,IMEX_energy = IMEXScheme(mesh,fes,phi,mu,v,w,phi_old,epsilon,gamma,M,tau,T)\n",
    "Draw(gfut.components[0], mesh, interpolate_multidim = True, animate = True)"
   ]
  },
  {
   "cell_type": "code",
   "execution_count": null,
   "metadata": {},
   "outputs": [],
   "source": [
    "gfut,gfu,L2_error,Implicit_integral,Implicit_energy = FullyImplicitScheme(mesh,fes,phi,mu,v,w,phi_old,epsilon,gamma,M,tau,T)\n",
    "Draw(gfut.components[0], mesh, interpolate_multidim = True, animate = True)"
   ]
  },
  {
   "attachments": {},
   "cell_type": "markdown",
   "metadata": {},
   "source": [
    "We observe that the IMEX and implicit scheme produces quite similar solutions. In contrast, the explicit scheme initially deviates significantly but appears to converge towards the same solution as the IMEX and implicit scheme as time progresses. I hypothesize that this initial difference arises from stability issues. As the explicit scheme is only conditionally stable, our choice of $maxh$ and $\\tau$ may not be sufficiently small in order to obtain stability. The implicit scheme remains stable regardless of these choices, while the IMEX scheme appears to be stable for our choices in $maxh$ and $\\tau$ ."
   ]
  },
  {
   "attachments": {},
   "cell_type": "markdown",
   "metadata": {},
   "source": [
    "### Task 2.4 - Convergence and conservation properties"
   ]
  },
  {
   "attachments": {},
   "cell_type": "markdown",
   "metadata": {},
   "source": [
    " #####  Total mass conservation and dissipation of energy\n",
    "\n",
    "As seen in the previous task, we expect the total mass to be conserved in time, i.e we expect this integral result\n",
    "\n",
    "$$\n",
    "\\int_\\Omega\\phi (x,t) = C(t)\n",
    "$$"
   ]
  },
  {
   "cell_type": "code",
   "execution_count": null,
   "metadata": {},
   "outputs": [],
   "source": [
    "time = np.linspace(0, 1, int(1/tau) + 1)\n",
    "fig, axs = plt.subplots(1, 3, figsize=(15, 4))  \n",
    "\n",
    "#Explicit Scheme Integral\n",
    "axs[0].plot(time, Explicit_integral, marker='o', color='b', label='Explicit Scheme')\n",
    "axs[0].set_title(\"Explicit Scheme Integral\")\n",
    "axs[0].set_xlabel(\"Time\")\n",
    "axs[0].set_ylabel(\"Integral of φ\")\n",
    "axs[0].grid()\n",
    "\n",
    "#IMEX Scheme Integral\n",
    "axs[1].plot(time, IMEX_integral, marker='o', color='r', label='IMEX Scheme')\n",
    "axs[1].set_title(\"IMEX Scheme Integral\")\n",
    "axs[1].set_xlabel(\"Time\")\n",
    "axs[1].grid()\n",
    "\n",
    "#Implicit Scheme Integral\n",
    "axs[2].plot(time, Implicit_integral, marker='o', color='g', label='Implicit Scheme')\n",
    "axs[2].set_title(\"Implicit Scheme Integral\")\n",
    "axs[2].set_xlabel(\"Time\")\n",
    "axs[2].grid()\n",
    "\n",
    "\n",
    "plt.tight_layout()\n",
    "plt.show()\n"
   ]
  },
  {
   "attachments": {},
   "cell_type": "markdown",
   "metadata": {},
   "source": [
    "We observe that the total mass seems to be constant for all of our numerical shcemes, with slight, but negligible changes."
   ]
  },
  {
   "attachments": {},
   "cell_type": "markdown",
   "metadata": {},
   "source": [
    "We also expect the energy to decrease in time, i.e we expect the following integral result\n",
    "\n",
    "$$\n",
    "\\frac{\\partial}{\\partial t} E(\\phi(t)) < 0\n",
    "$$"
   ]
  },
  {
   "cell_type": "code",
   "execution_count": null,
   "metadata": {},
   "outputs": [],
   "source": [
    "fig, axs = plt.subplots(1, 3, figsize=(15, 4)) \n",
    "\n",
    "#Explicit Scheme Energy\n",
    "axs[0].plot(time, Explicit_energy, marker='o', color='b', label='Explicit Scheme')\n",
    "axs[0].set_title(\"Explicit Scheme Energy\")\n",
    "axs[0].set_xlabel(\"Time\")\n",
    "axs[0].set_ylabel(\"Energy\")\n",
    "axs[0].grid()\n",
    "\n",
    "#IMEX Scheme Energy\n",
    "axs[1].plot(time, IMEX_energy, marker='o', color='r', label='IMEX Scheme')\n",
    "axs[1].set_title(\"IMEX Scheme Energy\")\n",
    "axs[1].set_xlabel(\"Time\")\n",
    "axs[1].grid()\n",
    "\n",
    "#Implicit Scheme Energy\n",
    "axs[2].plot(time, Implicit_energy, marker='o', color='g', label='Implicit Scheme')\n",
    "axs[2].set_title(\"Implicit Scheme Energy\")\n",
    "axs[2].set_xlabel(\"Time\")\n",
    "axs[2].grid()\n",
    "\n",
    "plt.tight_layout()\n",
    "plt.show()"
   ]
  },
  {
   "attachments": {},
   "cell_type": "markdown",
   "metadata": {},
   "source": [
    "We observe that the energy is decreasing in time for all of our schemes. \n",
    "\n",
    "The rate of dissipation is given as $\\frac{\\partial}{\\partial t} E(\\phi(t)) = -\\int_\\Omega  M \\mid \\nabla \\mu \\mid ^2 \\ dx < 0$\n",
    "\n",
    "\n",
    "\n",
    "Comment on why the IMEX is the best one"
   ]
  },
  {
   "attachments": {},
   "cell_type": "markdown",
   "metadata": {},
   "source": [
    "#### Manufactured Solutions\n",
    "\n",
    "I chose $\\phi(x,y,t) = t \\cos(\\pi x)\\cos(\\pi y)$ and $\\mu(x,y) = \\cos(\\pi x)\\cos(\\pi y)$ as my manufactured solutions. I chose these ones as they both fullfill the Neumann boundary conditions, $\\nabla \\phi \\cdot n = 0$ and $\\nabla \\mu \\cdot n = 0 $ on $\\partial \\Omega$. This is easy to observe as we have\n",
    "\n",
    "$$\n",
    "\\nabla \\phi(x,y,t) = [-t \\pi \\sin(\\pi x)\\cos(\\pi y),-t \\pi \\cos(\\pi x)\\sin(\\pi y)]\n",
    "$$\n",
    "\n",
    "Which results in $\\nabla \\phi(0,0,t) = \\nabla \\phi(0,1,t) = \\nabla \\phi(1,0,t) = \\nabla \\phi(1,1,t) = 0$. This obviously also results in the same result for $\\mu$, as $\\nabla \\mu(x,y) = [- \\pi \\sin(\\pi x)\\cos(\\pi y),- \\pi \\cos(\\pi x)\\sin(\\pi y)]$. Thus we also have $\\nabla \\mu(0,0) = \\nabla \\mu(1,0) = \\nabla \\mu(0,1) = \\nabla \\mu(1,1) = 0$."
   ]
  },
  {
   "cell_type": "code",
   "execution_count": null,
   "metadata": {},
   "outputs": [],
   "source": [
    "def phi_exact(t):\n",
    "    return t*cos(np.pi*x)*cos(np.pi*y)\n",
    "\n",
    "def phi_dt(t):\n",
    "    return cos(np.pi*x)*cos(np.pi*y)\n",
    "\n",
    "def phi_lap(t):\n",
    "    return -2*np.pi**2*phi_exact(t)\n",
    "\n",
    "def mu_exact():\n",
    "    return cos(np.pi*x)*cos(np.pi*y)\n",
    "\n",
    "def mu_lap():\n",
    "    return -2*np.pi**2*mu_exact()"
   ]
  },
  {
   "cell_type": "code",
   "execution_count": null,
   "metadata": {},
   "outputs": [],
   "source": [
    "#Defining mesh and Finite element space\n",
    "mesh = Mesh(unit_square.GenerateMesh(maxh=maxh))\n",
    "V = H1(mesh, order=order) \n",
    "fes = V*V \n",
    "\n",
    "#Defining trial and test functions\n",
    "phi,mu = fes.TrialFunction()  #n+1\n",
    "v,w = fes.TestFunction()\n",
    "\n",
    "#Initialising phi_0 \n",
    "phi_old = GridFunction(V)\n",
    "initial_values = np.zeros(V.ndof)\n",
    "phi_old.vec.data = initial_values"
   ]
  },
  {
   "attachments": {},
   "cell_type": "markdown",
   "metadata": {},
   "source": [
    "#### Plotting Analytical Solution"
   ]
  },
  {
   "cell_type": "code",
   "execution_count": null,
   "metadata": {},
   "outputs": [],
   "source": [
    "gfu = GridFunction(V)\n",
    "gfut = GridFunction(gfu.space, multidim = 0)\n",
    "gfut.AddMultiDimComponent(gfu.vec)\n",
    "\n",
    "t=0\n",
    "while t<T:\n",
    "    t += tau\n",
    "    exact = phi_exact(t)\n",
    "    gfu.Set(exact)     \n",
    "    gfut.AddMultiDimComponent(gfu.vec)\n",
    "Draw(gfut, mesh, interpolate_multidim = True, animate = True)"
   ]
  },
  {
   "attachments": {},
   "cell_type": "markdown",
   "metadata": {},
   "source": [
    "#### Plotting Numerical Solutions"
   ]
  },
  {
   "cell_type": "code",
   "execution_count": null,
   "metadata": {},
   "outputs": [],
   "source": [
    "gfut,gfu,L2_error,integral,energy = FullyExplicitScheme(mesh,fes,phi,mu,v,w,phi_old,epsilon,gamma,M,tau,T)\n",
    "Draw(gfut.components[0], mesh, interpolate_multidim = True, animate = True)"
   ]
  },
  {
   "cell_type": "code",
   "execution_count": null,
   "metadata": {},
   "outputs": [],
   "source": [
    "gfut,gfu,L2_error,integral,energy = IMEXScheme(mesh,fes,phi,mu,v,w,phi_old,epsilon,gamma,M,tau,T)\n",
    "Draw(gfut.components[0], mesh, interpolate_multidim = True, animate = True)"
   ]
  },
  {
   "cell_type": "code",
   "execution_count": null,
   "metadata": {},
   "outputs": [],
   "source": [
    "gfut,gfu,L2_error,integral,energy = FullyImplicitScheme(mesh,fes,phi,mu,v,w,phi_old,epsilon,gamma,M,tau,T)\n",
    "Draw(gfut.components[0], mesh, interpolate_multidim = True, animate = True)"
   ]
  },
  {
   "attachments": {},
   "cell_type": "markdown",
   "metadata": {},
   "source": [
    "#### Convergence Analysis\n",
    "\n",
    "In order to perform a convergence analysis, I have chosen to compute the $L^2$ error in space and $L^\\infty$ in time. In practice, this means that in each time  $t$, I compute the error between the analytical and numerical solution in the $L^2$ norm, $\\mid \\mid u_h(t)-u(t) \\mid \\mid _{L^2}$ for a given time step size $\\tau$. \n",
    "\n",
    "To assess the overall error in time, I then take the maximum $L^2$ error over all values in time, which represents the $L^\\infty$ error in time of the spatial $L^2$ error. This combined $L^2$-in-space and $L^\\infty$ -in-time approach allows us to measure the worst-case error throughout the experiment, giving a measure of each scheme’s accuracy over the entire time interval $T$. Thus computing the following error for each time step $\\tau$:\n",
    "$$\\mid u_h - u \\mid_{L^\\infty(0, T; L^2)} = \\sup_{t \\in [0, T]} \\mid u_h(t) - u(t) \\mid_{L^2}$$\n",
    "\n",
    "The expected convergence rate in space remains the same regardless of the choice of time discretization method. The spatial convergence rate primarily depends on the degree of the basis functions used in the finite element method, and not on how time is discretized. As seen in project one, we expect second order convergence in space for our finite element solver when using linear polynomials as basis functions for the finite element space $V$. \n",
    "\n",
    "Regarding stability, one would typically expect the least stability for the explicit scheme, and the most stability for the implicit scheme. This is because the explicit scheme is conditionally stable (Courant-Friedrichs-Lewy (CFL) condition), which means that for a given mesh size, the time step size $\\tau$ must satisfy a given condition in order to be stable, usually on the form $\\tau \\le C \\Delta x$, where $\\Delta x = maxh$ and $C$ is some constant. However, the implicit scheme is stable regardless of the time step choice. Regarding the stability of the IMEX scheme, one typically needs a CFL-like condition in order to obtain stability due to the explicit part of the IMEX scheme. \n",
    "\n",
    "The expected convergence rate in time is of first order for the explicit scheme, \n"
   ]
  },
  {
   "cell_type": "code",
   "execution_count": null,
   "metadata": {},
   "outputs": [],
   "source": [
    "def convergence_analysis(H,Tau,scheme,order=1):\n",
    "\n",
    "    L2 = []\n",
    "    for maxh in H:\n",
    "        for tau in Tau:\n",
    "            #Defining mesh and Finite element space\n",
    "            mesh = Mesh(unit_square.GenerateMesh(maxh=maxh))\n",
    "            V = H1(mesh, order=order) \n",
    "            fes = V*V \n",
    "\n",
    "            #Defining trial and test functions\n",
    "            phi,mu = fes.TrialFunction() \n",
    "            v,w = fes.TestFunction()\n",
    "\n",
    "            #Initialising phi_0 \n",
    "            phi_old = GridFunction(V)\n",
    "            initial_values = np.zeros(V.ndof)\n",
    "            phi_old.vec.data = initial_values\n",
    "\n",
    "            gfut,gfu,L2_error,integral,energy = scheme(mesh,fes,phi,mu,v,w,phi_old,epsilon,gamma,M,tau,T)\n",
    "            L2.append([tau, maxh, max(L2_error)])\n",
    "            df = pd.DataFrame(L2, columns=[\"tau\", \"maxh\", \"L2_error\"])\n",
    "    return df, integral, energy"
   ]
  },
  {
   "cell_type": "code",
   "execution_count": null,
   "metadata": {},
   "outputs": [],
   "source": [
    "N = np.array([1,2,3,4])\n",
    "H = 0.2*2.0**(-N)\n",
    "Tau = H\n",
    "\n",
    "Explicit_df, Explicit_integral, Explicit_energy = convergence_analysis(H,Tau,FullyExplicitScheme)\n",
    "IMEX_df, IMEX_integral, IMEX_energy = convergence_analysis(H,Tau,IMEXScheme)\n",
    "Implicit_df, Implicit_integral,Implicit_energy = convergence_analysis(H,Tau,FullyImplicitScheme)\n"
   ]
  },
  {
   "attachments": {},
   "cell_type": "markdown",
   "metadata": {},
   "source": [
    "##### The Explicit Scheme"
   ]
  },
  {
   "cell_type": "code",
   "execution_count": null,
   "metadata": {},
   "outputs": [],
   "source": [
    "fig, axs = plt.subplots(1, 2, figsize=(14, 6))\n",
    "\n",
    "for tau in Explicit_df['tau'].unique():\n",
    "    df_tau = Explicit_df[Explicit_df['tau'] == tau]\n",
    "    axs[0].loglog(df_tau['maxh'], df_tau['L2_error'], marker='o', label=f'tau = {tau:.3f}')\n",
    "axs[0].set_xlabel('maxh')\n",
    "axs[0].set_ylabel('L2 Error')\n",
    "axs[0].set_title('L2 Error vs maxh (Explicit Scheme)')\n",
    "axs[0].legend(title=\"Time step tau\")\n",
    "axs[0].grid(True)\n",
    "\n",
    "for maxh in Explicit_df['maxh'].unique():\n",
    "    df_tau = Explicit_df[Explicit_df['maxh'] == maxh]\n",
    "    axs[1].loglog(df_tau['tau'], df_tau['L2_error'], marker='o', label=f'maxh = {maxh:.3f}')\n",
    "axs[1].set_xlabel('tau')\n",
    "axs[1].set_ylabel('L2 Error')\n",
    "axs[1].set_title('L2 Error vs tau (Explicit Scheme)')\n",
    "axs[1].legend(title=\"Step Size maxh\")\n",
    "axs[1].grid(True)\n",
    "\n",
    "plt.tight_layout()\n",
    "plt.show()\n"
   ]
  },
  {
   "attachments": {},
   "cell_type": "markdown",
   "metadata": {},
   "source": [
    "From our plot it seems as the convergence in time is dominating in comparison to the convergence in space. \n",
    "\n",
    "For our first plot, we observe that for greater time step sizes $\\tau$, the overall error plateaus quickly as the mesh is refined. However, for the smallest choice of time step size $\\tau = 0.0125$, we observe a more substantial reduction in overall error with mesh refinement. This suggest that choosing a smaller time step size $\\tau$ in each experiment could allow us to achieve second-order convergence in space.\n",
    "\n",
    "For our second plot, we observe a diagonal trend in the overall error for most of our choices of maxh (except for $maxh =0.1$). This pattern suggests that we have attained the expected first-order convergence in time, as the overall error approximately halves with each reduction in $\\tau$."
   ]
  },
  {
   "attachments": {},
   "cell_type": "markdown",
   "metadata": {},
   "source": [
    "##### The IMEX Scheme"
   ]
  },
  {
   "cell_type": "code",
   "execution_count": null,
   "metadata": {},
   "outputs": [],
   "source": [
    "fig, axs = plt.subplots(1, 2, figsize=(14, 6))\n",
    "\n",
    "for tau in IMEX_df['tau'].unique():\n",
    "    df_tau = IMEX_df[IMEX_df['tau'] == tau]\n",
    "    axs[0].loglog(df_tau['maxh'], df_tau['L2_error'], marker='o', label=f'tau = {tau:.3f}')\n",
    "axs[0].set_xlabel('maxh')\n",
    "axs[0].set_ylabel('L2 Error')\n",
    "axs[0].set_title('L2 Error vs maxh (IMEX Scheme)')\n",
    "axs[0].legend(title=\"Time step tau\")\n",
    "axs[0].grid(True)\n",
    "\n",
    "for maxh in IMEX_df['maxh'].unique():\n",
    "    df_tau = IMEX_df[IMEX_df['maxh'] == maxh]\n",
    "    axs[1].loglog(df_tau['tau'], df_tau['L2_error'], marker='o', label=f'maxh = {maxh:.3f}')\n",
    "axs[1].set_xlabel('tau')\n",
    "axs[1].set_ylabel('L2 Error')\n",
    "axs[1].set_title('L2 Error vs tau (IMEX Scheme)')\n",
    "axs[1].legend(title=\"Step Size maxh\")\n",
    "axs[1].grid(True)\n",
    "\n",
    "plt.tight_layout()\n",
    "plt.show()\n"
   ]
  },
  {
   "attachments": {},
   "cell_type": "markdown",
   "metadata": {},
   "source": [
    "\n",
    "For the IMEX scheme, we observe nearly the exact same results as from the fully explicit scheme. In our first plot, for greater time step sizes $\\tau$, the overall error plateaus quickly as the mesh is refined. But we also observe a more substantial reduction in overall error with mesh refinement for the smallest choice of time step size $\\tau = 0.0125$. Thus, we would also benefit from a smaller time step size $\\tau$ in this experiment as well in order to achieve second-order convergence in space. \n",
    "\n",
    "One advantage of the IMEX scheme over the fully explicit scheme is that it tends to produce slightly smaller overall errors for each $\\tau$ and $maxh$. This indicates that the IMEX scheme offers slightly better accuracy compared to the fully explicit scheme.\n"
   ]
  },
  {
   "attachments": {},
   "cell_type": "markdown",
   "metadata": {},
   "source": [
    "#####  The Fully Implicit Scheme"
   ]
  },
  {
   "cell_type": "code",
   "execution_count": null,
   "metadata": {},
   "outputs": [],
   "source": [
    "fig, axs = plt.subplots(1, 2, figsize=(14, 6))\n",
    "\n",
    "for tau in Implicit_df['tau'].unique():\n",
    "    df_tau = Implicit_df[Implicit_df['tau'] == tau]\n",
    "    axs[0].loglog(df_tau['maxh'], df_tau['L2_error'], marker='o', label=f'tau = {tau:.3f}')\n",
    "axs[0].set_xlabel('maxh')\n",
    "axs[0].set_ylabel('L2 Error')\n",
    "axs[0].set_title('L2 Error vs maxh (Implicit Scheme)')\n",
    "axs[0].legend(title=\"Time step tau\")\n",
    "axs[0].grid(True)\n",
    "\n",
    "for maxh in Implicit_df['maxh'].unique():\n",
    "    df_tau = Implicit_df[Implicit_df['maxh'] == maxh]\n",
    "    axs[1].loglog(df_tau['tau'], df_tau['L2_error'], marker='o', label=f'maxh = {maxh:.3f}')\n",
    "axs[1].set_xlabel('tau')\n",
    "axs[1].set_ylabel('L2 Error')\n",
    "axs[1].set_title('L2 Error vs tau (Implicit Scheme)')\n",
    "axs[1].legend(title=\"Step Size maxh\")\n",
    "axs[1].grid(True)\n",
    "\n",
    "plt.tight_layout()\n",
    "plt.show()\n"
   ]
  },
  {
   "attachments": {},
   "cell_type": "markdown",
   "metadata": {},
   "source": [
    "From our plot it seems as the convergence in space is completely dominating in comparison to the convergence in time. \n",
    "\n",
    "For our first plot, we observe a clear diagonal trend. This indicates that the error decreases consistently as the mesh is refined. I observe that the error does not vary significantly with the choice of timestep $\\tau$ suggesting that spatial refinement plays a much stronger role in reducing the overall error. We observe second-order convergence in space, as expected for a finite element method with linear basis functions. This is especially clear as we see that for each refinement in the mesh size, the overall error is reduced by about a factor $4$.\n",
    "\n",
    "For our second plot, the overall error appears to be almost constant across different values of $\\tau$. This suggests that refining the timestep does not have a significant impact on the overall error, and that we did indeed choose a small enough $\\tau$ for this scheme to observe the wanted second order convergence in space. "
   ]
  },
  {
   "attachments": {},
   "cell_type": "markdown",
   "metadata": {},
   "source": [
    "### Task 2.5 - Time adaptivity\n",
    "\n",
    "A characterisitc of these types of equations is that they have a very fast initial phase, but a slower evolution in the long term. We can take advantage of this property by dynamically modifying our time step size $\\tau$, such that we start with a very low time-step, and then incrementing it with the passing of time. In theory, this might cause a reduction in the error.This adaptive approach is theoretically expected to contribute to a reduction in error over the course of the computation.\n",
    "\n",
    "I implemented the time_adaptivity function to adjust the time intervals, rather than the time step itself, making it simpler to keep the total number of steps consistent across simulations. This approach allowed me to compare results more directly with my previous experiments in my convergence analysis, as the number of steps remains the same. The time_adaptivity function uses logarithmic spacing to adjust the time intervals during the simulation. By spacing the intervals logarithmically, we start with higher resolution in the fast-changing phase, and then transition to larger intervals as the changes slow down. "
   ]
  },
  {
   "cell_type": "code",
   "execution_count": null,
   "metadata": {},
   "outputs": [],
   "source": [
    "def time_adaptivity(T,steps,min_frac):\n",
    "    \"\"\"\n",
    "    \n",
    "    Parameters:\n",
    "        T:          Maximum time \n",
    "        steps:      total number of time steps\n",
    "        min_frac:   fraction of time that gives the minimum timestep \n",
    "                \n",
    "    Returns:\n",
    "\n",
    "    time_steps:     A list of steps that are logarithmically spaced between min_step and T.\"\"\"\n",
    "    min_step = T*min_frac\n",
    "    time_steps = np.logspace(np.log10(min_step), np.log10(T), steps)\n",
    "    return time_steps\n",
    "\n"
   ]
  },
  {
   "attachments": {},
   "cell_type": "markdown",
   "metadata": {},
   "source": [
    "I chose to implement time adaptivity for the implicit scheme due to its stability and accuracy. In my convergence analysis, I observed that the implicit scheme displayed second-order convergence in space but no convergence in time. The implicit scheme is also the most stable of the methods, which allows it to handle larger time steps without compromising accuracy, compared to the explicit scheme, which is only conditionally stable. Thus, for the implicit scheme, you can adjust the time step size dynamically without losing stability. "
   ]
  },
  {
   "cell_type": "code",
   "execution_count": null,
   "metadata": {},
   "outputs": [],
   "source": [
    "def time_adaptive_FullyImplicitScheme(mesh,fes,phi,mu,v,w,phi_old,epsilon,gamma,M,tau,T):\n",
    "    \n",
    "    gfu = GridFunction(fes)\n",
    "    gfut = GridFunction(gfu.space, multidim = 0)\n",
    "    gfut.AddMultiDimComponent(gfu.vec)\n",
    "\n",
    "    L2_error = []\n",
    "    integral = []\n",
    "    energy = []\n",
    "\n",
    "    time_steps = time_adaptivity(T,math.ceil(T / tau),0.001)\n",
    "\n",
    "    for i, t in enumerate(time_steps):\n",
    "        if i == 0:\n",
    "            tau = t\n",
    "        else:\n",
    "            tau = t - time_steps[i - 1]\n",
    "\n",
    "        rhs1 = phi_dt(t)-M*mu_lap() \n",
    "        rhs2 = mu_exact() - gamma*(phi_exact(t)**3 - phi_exact(t)) + epsilon*phi_lap(t)\n",
    "\n",
    "        #Defining Bilinear form\n",
    "        A = BilinearForm(fes)\n",
    "        A += phi*v*dx+tau*M*grad(mu)*grad(v)*dx -+gamma*(phi**3-phi)*w*dx+ mu*w*dx-epsilon*grad(phi)*grad(w)*dx- (tau*rhs1*v*dx+ phi_old*v*dx + rhs2*w*dx)\n",
    "        A.Assemble()\n",
    "            \n",
    "\n",
    "        #Solving for phi with Newton iterations\n",
    "        Newton(A,gfu,freedofs=gfu.space.FreeDofs(),maxit=10,maxerr=1e-11,inverse=\"umfpack\",dampfactor=1,printing=False)\n",
    "\n",
    "        #Computing L2 error, total mass and energy \n",
    "        e_h = gfu.components[0]-phi_exact(t)\n",
    "        norm = np.sqrt(Integrate(e_h*e_h,mesh))\n",
    "        L2_error.append(norm)\n",
    "        int_phi = Integrate(gfu.components[0],mesh)\n",
    "        E = Integrate(epsilon/2*(grad(gfu.components[0])**2)+gamma/4*(gfu.components[0]**2-1)**2,mesh)\n",
    "        L2_error.append(norm)\n",
    "        integral.append(int_phi)\n",
    "        energy.append(E)\n",
    "\n",
    "        #Storing and updating phi\n",
    "        gfut.AddMultiDimComponent(gfu.vec)\n",
    "        phi_old.vec.data = gfu.components[0].vec\n",
    "\n",
    "\n",
    "    return gfut,gfu, L2_error,integral, energy"
   ]
  },
  {
   "cell_type": "code",
   "execution_count": null,
   "metadata": {},
   "outputs": [],
   "source": [
    "adaptive_df, integral, energy = convergence_analysis(H,Tau, time_adaptive_FullyImplicitScheme)"
   ]
  },
  {
   "attachments": {},
   "cell_type": "markdown",
   "metadata": {},
   "source": [
    "#### Comparing constant and adaptive time stepping\n",
    "\n",
    "In order to more accurately compare the performance of the constant time step and adaptive time step schemes, I chose to plot the error relative to the total amount of time steps."
   ]
  },
  {
   "cell_type": "code",
   "execution_count": null,
   "metadata": {},
   "outputs": [],
   "source": [
    "adaptive_df[\"time step\"] = adaptive_df[\"tau\"].apply(lambda x: math.ceil(T / x))\n",
    "Implicit_df[\"time step\"] = Implicit_df[\"tau\"].apply(lambda x: math.ceil(T / x))"
   ]
  },
  {
   "cell_type": "code",
   "execution_count": null,
   "metadata": {},
   "outputs": [],
   "source": [
    "fig, axs = plt.subplots(2, 2, figsize=(14, 12))\n",
    "\n",
    "for tau in Implicit_df['time step'].unique():\n",
    "    df_tau = Implicit_df[Implicit_df['time step'] == tau]\n",
    "    axs[0, 0].loglog(df_tau['maxh'], df_tau['L2_error'], marker='o', label=f'Steps = {tau:.3f}')\n",
    "axs[0, 0].set_xlabel('maxh')\n",
    "axs[0, 0].set_ylabel('L2 Error')\n",
    "axs[0, 0].set_title('L2 Error vs maxh (Implicit Scheme)')\n",
    "axs[0, 0].legend(title=\"Time steps\")\n",
    "axs[0, 0].grid(True)\n",
    "\n",
    "\n",
    "for maxh in Implicit_df['maxh'].unique():\n",
    "    df_tau = Implicit_df[Implicit_df['maxh'] == maxh]\n",
    "    axs[0, 1].loglog(df_tau['time step'], df_tau['L2_error'], marker='o', label=f'maxh = {maxh:.3f}')\n",
    "axs[0, 1].set_xlabel('Time steps')\n",
    "axs[0, 1].set_ylabel('L2 Error')\n",
    "axs[0, 1].set_title('L2 Error vs time steps (Implicit Scheme)')\n",
    "axs[0, 1].legend(title=\"Step Size maxh\")\n",
    "axs[0, 1].grid(True)\n",
    "\n",
    "\n",
    "for tau in adaptive_df['time step'].unique():\n",
    "    df_tau = adaptive_df[adaptive_df['time step'] == tau]\n",
    "    axs[1, 0].loglog(df_tau['maxh'], df_tau['L2_error'], marker='o', label=f'Steps = {tau:.3f}')\n",
    "axs[1, 0].set_xlabel('maxh')\n",
    "axs[1, 0].set_ylabel('L2 Error')\n",
    "axs[1, 0].set_title('L2 Error vs maxh (Adaptive Scheme)')\n",
    "axs[1, 0].legend(title=\"Time steps\")\n",
    "axs[1, 0].grid(True)\n",
    "\n",
    "\n",
    "for maxh in adaptive_df['maxh'].unique():\n",
    "    df_tau = adaptive_df[adaptive_df['maxh'] == maxh]\n",
    "    axs[1, 1].loglog(df_tau['time step'], df_tau['L2_error'], marker='o', label=f'maxh = {maxh:.3f}')\n",
    "axs[1, 1].set_xlabel('time steps')\n",
    "axs[1, 1].set_ylabel('L2 Error')\n",
    "axs[1, 1].set_title('L2 Error vs tau (Adaptive Scheme)')\n",
    "axs[1, 1].legend(title=\"Step Size maxh\")\n",
    "axs[1, 1].grid(True)\n",
    "\n",
    "plt.tight_layout()\n",
    "plt.show()\n"
   ]
  },
  {
   "attachments": {},
   "cell_type": "markdown",
   "metadata": {},
   "source": [
    "In general, the adaptive time-stepping method seemed to reduce error more quickly than the constant time-stepping method, particularly during the initial steps. However, for finer meshes and smaller time steps, the two methods performed very similarly. This difference is especially noticeable for the larger values of maxh and smaller values for the number of time steps, like when we have ten time steps and $maxh = 0.1$. In this case, the adaptive method had a significantly larger error than the constant time stepping, but as the number of time steps increase and $maxh$ decrease, the adaptive approach brought the error down more rapidly, leading to nearly identical error values between the two methods. For very refined mesh and and larger number of time steps, $maxh = 0.0125$ and $80$ steps, the error in both cases converges to nearly identical values ($0.000047$ for both). This suggests that, while the adaptive method does a better job of reducing error in the early stages, both methods eventually reach similar accuracy levels when the mesh and time step are significantly refined. "
   ]
  }
 ],
 "metadata": {
  "kernelspec": {
   "display_name": "Python 3",
   "language": "python",
   "name": "python3"
  },
  "language_info": {
   "codemirror_mode": {
    "name": "ipython",
    "version": 3
   },
   "file_extension": ".py",
   "mimetype": "text/x-python",
   "name": "python",
   "nbconvert_exporter": "python",
   "pygments_lexer": "ipython3",
   "version": "3.10.10"
  },
  "orig_nbformat": 4,
  "vscode": {
   "interpreter": {
    "hash": "bd385fe162c5ca0c84973b7dd5c518456272446b2b64e67c2a69f949ca7a1754"
   }
  }
 },
 "nbformat": 4,
 "nbformat_minor": 2
}
