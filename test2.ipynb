{
 "cells": [
  {
   "attachments": {},
   "cell_type": "markdown",
   "metadata": {},
   "source": [
    "\n",
    "$$\n",
    "\\begin{aligned}\n",
    "(\\frac{\\phi^{n+1}-\\phi^n}{\\tau},v) + (M\\nabla \\mu^{n+1}, \\nabla v) &= 0\\ \\ \\ \\ \\forall v \\in \\mathbb{V} \\\\\n",
    "(\\mu^{n+1},w)-(\\epsilon \\nabla \\phi^{n+1}, \\nabla w) \n",
    "&= (\\gamma ((\\phi^n)^3 -\\phi^n),w) \\ \\ \\ \\  \\forall w \\in \\mathbb{V} \n",
    "\\end{aligned}\n",
    "$$\n"
   ]
  },
  {
   "cell_type": "code",
   "execution_count": 1,
   "metadata": {},
   "outputs": [],
   "source": [
    "from ngsolve import *\n",
    "from ngsolve.webgui import Draw\n",
    "import random\n",
    "import numpy as np\n",
    "# Defining parameters\n",
    "epsilon = 0.02\n",
    "gamma = 50\n",
    "M = 1e-3\n",
    "maxh = 0.01 \n",
    "order = 1 \n",
    "tau = 0.1            \n",
    "T = 1\n",
    "#Defining mesh and Finite element space\n",
    "mesh = Mesh(unit_square.GenerateMesh(maxh=maxh))\n",
    "V = H1(mesh, order=1) \n",
    "fes = V*V \n",
    "\n",
    "#Defining trial and test functions\n",
    "phi,mu = fes.TrialFunction()  #n+1\n",
    "v,w = fes.TestFunction()\n",
    "\n",
    "#Initialising phi_0 random values between -1 and 1\n",
    "phi_old = GridFunction(V)\n",
    "#random_values = np.random.uniform(-1, 1, V.ndof)\n",
    "random_values= np.zeros(V.ndof)\n",
    "phi_old.vec.data = random_values"
   ]
  },
  {
   "cell_type": "markdown",
   "metadata": {},
   "source": []
  },
  {
   "cell_type": "code",
   "execution_count": 2,
   "metadata": {},
   "outputs": [],
   "source": [
    "def phi_exact(t):\n",
    "    return t*cos(np.pi*x)*cos(np.pi*y)\n",
    "\n",
    "def phi_dt(t):\n",
    "    return cos(np.pi*x)*cos(np.pi*y)\n",
    "\n",
    "def phi_lap(t):\n",
    "    return -2*np.pi**2*phi_exact(t)\n",
    "\n",
    "def mu_exact():\n",
    "    return cos(np.pi*x)*cos(np.pi*y)\n",
    "\n",
    "def mu_lap():\n",
    "    return -2*np.pi**2*mu_exact()"
   ]
  },
  {
   "cell_type": "code",
   "execution_count": 3,
   "metadata": {},
   "outputs": [],
   "source": [
    "def FullyExplicitScheme(mesh,fes,phi,mu,v,w,phi_old,epsilon,gamma,M,tau,T):\n",
    "\n",
    "    #Defining Bilinear form\n",
    "    A = BilinearForm(fes)\n",
    "    A += phi*v*dx+tau*M*grad(mu)*grad(v)*dx + mu*w*dx-epsilon*grad(phi)*grad(w)*dx\n",
    "    A.Assemble()\n",
    "\n",
    "    \n",
    "    gfu = GridFunction(fes)\n",
    "    gfut = GridFunction(gfu.space, multidim = 0)\n",
    "    gfut.AddMultiDimComponent(gfu.vec)\n",
    "\n",
    "    t=0\n",
    "    while t<T:\n",
    "        t+=tau\n",
    "        rhs1 = phi_dt(t)-M*mu_lap() \n",
    "        rhs2 = mu_exact() - gamma*(phi_exact(t)**3 - phi_exact(t)) + epsilon*phi_lap(t)\n",
    "            \n",
    "        #Defining linear form\n",
    "        f=LinearForm(fes)\n",
    "        f+= tau*rhs1*v*dx+ phi_old*v*dx+gamma*(phi_old**3-phi_old)*w*dx + rhs2*w*dx\n",
    "        f.Assemble()\n",
    "\n",
    "        #Solving for phi\n",
    "        gfu.vec.data = A.mat.Inverse(freedofs = fes.FreeDofs())*f.vec\n",
    "\n",
    "        e_h = gfu.components[0]-phi_exact(t)\n",
    "        norm = np.sqrt(Integrate(e_h*e_h,mesh))\n",
    "        print(norm)\n",
    "\n",
    "        #Storing and updating phi\n",
    "        gfut.AddMultiDimComponent(gfu.vec)\n",
    "        phi_old.vec.data = gfu.components[0].vec\n",
    "\n",
    "    return gfut,gfu"
   ]
  },
  {
   "cell_type": "code",
   "execution_count": 4,
   "metadata": {},
   "outputs": [
    {
     "name": "stdout",
     "output_type": "stream",
     "text": [
      "0.004904451142663343\n",
      "0.010132265282804637\n",
      "0.01563009737241884\n",
      "0.02167849872382366\n",
      "0.02942487302916763\n",
      "0.04131548124983854\n",
      "0.06110574283147397\n",
      "0.09522993746712079\n",
      "0.15786775053845858\n",
      "0.27926832940854124\n",
      "0.49177862432515146\n"
     ]
    },
    {
     "data": {
      "application/vnd.jupyter.widget-view+json": {
       "model_id": "befbffafc6b34ec89f9e4d419dac698c",
       "version_major": 2,
       "version_minor": 0
      },
      "text/plain": [
       "WebGuiWidget(layout=Layout(height='500px', width='100%'), value={'gui_settings': {}, 'ngsolve_version': '6.2.2…"
      ]
     },
     "metadata": {},
     "output_type": "display_data"
    },
    {
     "data": {
      "text/plain": [
       "BaseWebGuiScene"
      ]
     },
     "execution_count": 4,
     "metadata": {},
     "output_type": "execute_result"
    }
   ],
   "source": [
    "gfut,gfu = FullyExplicitScheme(mesh,fes,phi,mu,v,w,phi_old,epsilon,gamma,M,tau,T)\n",
    "Draw(gfut.components[0], mesh, interpolate_multidim = True, animate = True)"
   ]
  },
  {
   "cell_type": "code",
   "execution_count": 5,
   "metadata": {},
   "outputs": [
    {
     "data": {
      "application/vnd.jupyter.widget-view+json": {
       "model_id": "cc240fb1d56e4bbc8307dd5d82b2a800",
       "version_major": 2,
       "version_minor": 0
      },
      "text/plain": [
       "WebGuiWidget(layout=Layout(height='500px', width='100%'), value={'gui_settings': {}, 'ngsolve_version': '6.2.2…"
      ]
     },
     "metadata": {},
     "output_type": "display_data"
    },
    {
     "data": {
      "text/plain": [
       "BaseWebGuiScene"
      ]
     },
     "execution_count": 5,
     "metadata": {},
     "output_type": "execute_result"
    }
   ],
   "source": [
    "from ngsolve import *\n",
    "from ngsolve.webgui import Draw\n",
    "\n",
    "#Defining mesh and Finite element space\n",
    "mesh = Mesh(unit_square.GenerateMesh(maxh=0.01))\n",
    "V = H1(mesh, order=1) \n",
    "\n",
    "\n",
    "gfu = GridFunction(V)\n",
    "gfut = GridFunction(gfu.space, multidim = 0)\n",
    "gfut.AddMultiDimComponent(gfu.vec)\n",
    "\n",
    "#scene = Draw(exact,mesh)\n",
    "t=0\n",
    "while t<T:\n",
    "    t += tau\n",
    "    exact = t*cos(np.pi*x)*cos(np.pi*y)\n",
    "    gfu.Set(exact)     \n",
    "    gfut.AddMultiDimComponent(gfu.vec)\n",
    "    #scene.Redraw(exact,mesh)\n",
    "Draw(gfut, mesh, interpolate_multidim = True, animate = True)"
   ]
  }
 ],
 "metadata": {
  "kernelspec": {
   "display_name": "Python 3",
   "language": "python",
   "name": "python3"
  },
  "language_info": {
   "codemirror_mode": {
    "name": "ipython",
    "version": 3
   },
   "file_extension": ".py",
   "mimetype": "text/x-python",
   "name": "python",
   "nbconvert_exporter": "python",
   "pygments_lexer": "ipython3",
   "version": "3.10.10"
  },
  "orig_nbformat": 4,
  "vscode": {
   "interpreter": {
    "hash": "bd385fe162c5ca0c84973b7dd5c518456272446b2b64e67c2a69f949ca7a1754"
   }
  }
 },
 "nbformat": 4,
 "nbformat_minor": 2
}
