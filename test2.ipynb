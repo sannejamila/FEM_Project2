{
 "cells": [
  {
   "attachments": {},
   "cell_type": "markdown",
   "metadata": {},
   "source": [
    "\n",
    "$$\n",
    "\\begin{aligned}\n",
    "(\\frac{\\phi^{n+1}-\\phi^n}{\\tau},v) + (M\\nabla \\mu^{n+1}, \\nabla v) &= 0\\ \\ \\ \\ \\forall v \\in \\mathbb{V} \\\\\n",
    "(\\mu^{n+1},w)-(\\epsilon \\nabla \\phi^{n+1}, \\nabla w) \n",
    "&= (\\gamma ((\\phi^n)^3 -\\phi^n),w) \\ \\ \\ \\  \\forall w \\in \\mathbb{V} \n",
    "\\end{aligned}\n",
    "$$\n"
   ]
  },
  {
   "cell_type": "code",
   "execution_count": 31,
   "metadata": {},
   "outputs": [],
   "source": [
    "from ngsolve import *\n",
    "from ngsolve.webgui import Draw\n",
    "import random\n",
    "import numpy as np\n",
    "# Defining parameters\n",
    "epsilon = 0.02\n",
    "gamma = 50\n",
    "M = 1e-3\n",
    "maxh = 0.01 \n",
    "order = 1\n",
    "tau = 0.1            \n",
    "T = 1\n",
    "#Defining mesh and Finite element space\n",
    "mesh = Mesh(unit_square.GenerateMesh(maxh=maxh))\n",
    "V = H1(mesh, order=1) \n",
    "fes = V*V \n",
    "\n",
    "#Defining trial and test functions\n",
    "phi,mu = fes.TrialFunction()  #n+1\n",
    "v,w = fes.TestFunction()\n",
    "\n",
    "#Initialising phi_0 random values between -1 and 1\n",
    "phi_old = GridFunction(V)\n",
    "#random_values = np.random.uniform(-1, 1, V.ndof)\n",
    "random_values= np.zeros(V.ndof)\n",
    "phi_old.vec.data = random_values"
   ]
  },
  {
   "cell_type": "markdown",
   "metadata": {},
   "source": []
  },
  {
   "cell_type": "code",
   "execution_count": 32,
   "metadata": {},
   "outputs": [],
   "source": [
    "def phi_exact(t):\n",
    "    return t*cos(np.pi*x)*cos(np.pi*y)\n",
    "\n",
    "def phi_dt(t):\n",
    "    return cos(np.pi*x)*cos(np.pi*y)\n",
    "\n",
    "def phi_lap(t):\n",
    "    return -2*np.pi**2*phi_exact(t)\n",
    "\n",
    "def mu_exact():\n",
    "    return cos(np.pi*x)*cos(np.pi*y)\n",
    "\n",
    "def mu_lap():\n",
    "    return -2*np.pi**2*mu_exact()"
   ]
  },
  {
   "cell_type": "code",
   "execution_count": 33,
   "metadata": {},
   "outputs": [],
   "source": [
    "def FullyExplicitScheme(mesh,fes,phi,mu,v,w,phi_old,epsilon,gamma,M,tau,T):\n",
    "\n",
    "    #Defining Bilinear form\n",
    "    A = BilinearForm(fes)\n",
    "    A += phi*v*dx+tau*M*grad(mu)*grad(v)*dx + mu*w*dx-epsilon*grad(phi)*grad(w)*dx\n",
    "    A.Assemble()\n",
    "\n",
    "    \n",
    "    gfu = GridFunction(fes)\n",
    "    gfut = GridFunction(gfu.space, multidim = 0)\n",
    "    gfut.AddMultiDimComponent(gfu.vec)\n",
    "\n",
    "    L2_error = []\n",
    "\n",
    "    t=0\n",
    "    while t<T:\n",
    "        t+=tau\n",
    "        rhs1 = phi_dt(t)-M*mu_lap() \n",
    "        rhs2 = mu_exact() - gamma*(phi_exact(t)**3 - phi_exact(t)) + epsilon*phi_lap(t)\n",
    "            \n",
    "        #Defining linear form\n",
    "        f=LinearForm(fes)\n",
    "        f+= tau*rhs1*v*dx+ phi_old*v*dx+gamma*(phi_old**3-phi_old)*w*dx + rhs2*w*dx\n",
    "        f.Assemble()\n",
    "\n",
    "        #Solving for phi\n",
    "        gfu.vec.data = A.mat.Inverse(freedofs = fes.FreeDofs())*f.vec\n",
    "\n",
    "        e_h = gfu.components[0]-phi_exact(t)\n",
    "        norm = np.sqrt(Integrate(e_h*e_h,mesh))\n",
    "        L2_error.append(norm)\n",
    "\n",
    "        #Storing and updating phi\n",
    "        gfut.AddMultiDimComponent(gfu.vec)\n",
    "        phi_old.vec.data = gfu.components[0].vec\n",
    "\n",
    "\n",
    "    return gfut,gfu, L2_error"
   ]
  },
  {
   "cell_type": "code",
   "execution_count": 34,
   "metadata": {},
   "outputs": [
    {
     "data": {
      "application/vnd.jupyter.widget-view+json": {
       "model_id": "4a24bad41f184e64802e116e54ff8b26",
       "version_major": 2,
       "version_minor": 0
      },
      "text/plain": [
       "WebGuiWidget(layout=Layout(height='500px', width='100%'), value={'gui_settings': {}, 'ngsolve_version': '6.2.2…"
      ]
     },
     "metadata": {},
     "output_type": "display_data"
    },
    {
     "data": {
      "text/plain": [
       "BaseWebGuiScene"
      ]
     },
     "execution_count": 34,
     "metadata": {},
     "output_type": "execute_result"
    }
   ],
   "source": [
    "gfut,gfu,L2_error = FullyExplicitScheme(mesh,fes,phi,mu,v,w,phi_old,epsilon,gamma,M,tau,T)\n",
    "Draw(gfut.components[0], mesh, interpolate_multidim = True, animate = True)"
   ]
  },
  {
   "cell_type": "code",
   "execution_count": 39,
   "metadata": {},
   "outputs": [
    {
     "data": {
      "application/vnd.jupyter.widget-view+json": {
       "model_id": "d937d81c021f4de38803045f5c22f4d4",
       "version_major": 2,
       "version_minor": 0
      },
      "text/plain": [
       "WebGuiWidget(layout=Layout(height='500px', width='100%'), value={'gui_settings': {}, 'ngsolve_version': '6.2.2…"
      ]
     },
     "metadata": {},
     "output_type": "display_data"
    }
   ],
   "source": [
    "from ngsolve import *\n",
    "from ngsolve.webgui import Draw\n",
    "\n",
    "#Defining mesh and Finite element space\n",
    "mesh = Mesh(unit_square.GenerateMesh(maxh=0.01))\n",
    "V = H1(mesh, order=1) \n",
    "\n",
    "\n",
    "gfu = GridFunction(V)\n",
    "gfut = GridFunction(gfu.space, multidim = 0)\n",
    "gfut.AddMultiDimComponent(gfu.vec)\n",
    "\n",
    "scene = Draw(exact,mesh)\n",
    "t=0\n",
    "while t<T:\n",
    "    t += tau\n",
    "    exact = t*cos(np.pi*x)*cos(np.pi*y)\n",
    "    gfu.Set(exact)     \n",
    "    gfut.AddMultiDimComponent(gfu.vec)\n",
    "    #t += tau\n",
    "    scene.Redraw(exact,mesh)\n",
    "#Draw(gfut, mesh, interpolate_multidim = True, animate = True)"
   ]
  },
  {
   "cell_type": "code",
   "execution_count": 40,
   "metadata": {},
   "outputs": [],
   "source": [
    "N = np.array([0,1,2,3,4,5])\n",
    "H = 0.2*2.0**(-N)\n",
    "L2 = []\n",
    "for h in H:\n",
    "    #Defining mesh and Finite element space\n",
    "    mesh = Mesh(unit_square.GenerateMesh(maxh=h))\n",
    "    V = H1(mesh, order=1) \n",
    "    fes = V*V \n",
    "\n",
    "    #Defining trial and test functions\n",
    "    phi,mu = fes.TrialFunction()  #n+1\n",
    "    v,w = fes.TestFunction()\n",
    "\n",
    "    #Initialising phi_0 random values between -1 and 1\n",
    "    phi_old = GridFunction(V)\n",
    "    random_values= np.zeros(V.ndof)\n",
    "    phi_old.vec.data = random_values\n",
    "\n",
    "    \n",
    "    gfut,gfu,L2_error = FullyExplicitScheme(mesh,fes,phi,mu,v,w,phi_old,epsilon,gamma,M,tau,T)\n",
    "    L2.append(L2_error)"
   ]
  },
  {
   "cell_type": "code",
   "execution_count": 41,
   "metadata": {},
   "outputs": [
    {
     "data": {
      "text/html": [
       "<div>\n",
       "<style scoped>\n",
       "    .dataframe tbody tr th:only-of-type {\n",
       "        vertical-align: middle;\n",
       "    }\n",
       "\n",
       "    .dataframe tbody tr th {\n",
       "        vertical-align: top;\n",
       "    }\n",
       "\n",
       "    .dataframe thead th {\n",
       "        text-align: right;\n",
       "    }\n",
       "</style>\n",
       "<table border=\"1\" class=\"dataframe\">\n",
       "  <thead>\n",
       "    <tr style=\"text-align: right;\">\n",
       "      <th></th>\n",
       "      <th>h=0.200</th>\n",
       "      <th>h=0.100</th>\n",
       "      <th>h=0.050</th>\n",
       "      <th>h=0.025</th>\n",
       "      <th>h=0.013</th>\n",
       "      <th>h=0.006</th>\n",
       "    </tr>\n",
       "  </thead>\n",
       "  <tbody>\n",
       "    <tr>\n",
       "      <th>0</th>\n",
       "      <td>0.005497</td>\n",
       "      <td>0.004999</td>\n",
       "      <td>0.004924</td>\n",
       "      <td>0.004908</td>\n",
       "      <td>0.004905</td>\n",
       "      <td>0.004904</td>\n",
       "    </tr>\n",
       "    <tr>\n",
       "      <th>1</th>\n",
       "      <td>0.011387</td>\n",
       "      <td>0.010338</td>\n",
       "      <td>0.010174</td>\n",
       "      <td>0.010141</td>\n",
       "      <td>0.010133</td>\n",
       "      <td>0.010131</td>\n",
       "    </tr>\n",
       "    <tr>\n",
       "      <th>2</th>\n",
       "      <td>0.017718</td>\n",
       "      <td>0.015986</td>\n",
       "      <td>0.015702</td>\n",
       "      <td>0.015645</td>\n",
       "      <td>0.015632</td>\n",
       "      <td>0.015628</td>\n",
       "    </tr>\n",
       "    <tr>\n",
       "      <th>3</th>\n",
       "      <td>0.025244</td>\n",
       "      <td>0.022330</td>\n",
       "      <td>0.021808</td>\n",
       "      <td>0.021705</td>\n",
       "      <td>0.021681</td>\n",
       "      <td>0.021675</td>\n",
       "    </tr>\n",
       "    <tr>\n",
       "      <th>4</th>\n",
       "      <td>0.036622</td>\n",
       "      <td>0.030876</td>\n",
       "      <td>0.029696</td>\n",
       "      <td>0.029481</td>\n",
       "      <td>0.029431</td>\n",
       "      <td>0.029418</td>\n",
       "    </tr>\n",
       "    <tr>\n",
       "      <th>5</th>\n",
       "      <td>0.057429</td>\n",
       "      <td>0.044904</td>\n",
       "      <td>0.041929</td>\n",
       "      <td>0.041444</td>\n",
       "      <td>0.041329</td>\n",
       "      <td>0.041300</td>\n",
       "    </tr>\n",
       "    <tr>\n",
       "      <th>6</th>\n",
       "      <td>0.096808</td>\n",
       "      <td>0.069743</td>\n",
       "      <td>0.062459</td>\n",
       "      <td>0.061394</td>\n",
       "      <td>0.061135</td>\n",
       "      <td>0.061071</td>\n",
       "    </tr>\n",
       "    <tr>\n",
       "      <th>7</th>\n",
       "      <td>0.171328</td>\n",
       "      <td>0.115017</td>\n",
       "      <td>0.098183</td>\n",
       "      <td>0.095876</td>\n",
       "      <td>0.095293</td>\n",
       "      <td>0.095149</td>\n",
       "    </tr>\n",
       "    <tr>\n",
       "      <th>8</th>\n",
       "      <td>0.307960</td>\n",
       "      <td>0.201536</td>\n",
       "      <td>0.164313</td>\n",
       "      <td>0.159336</td>\n",
       "      <td>0.158002</td>\n",
       "      <td>0.157675</td>\n",
       "    </tr>\n",
       "    <tr>\n",
       "      <th>9</th>\n",
       "      <td>0.524919</td>\n",
       "      <td>0.366549</td>\n",
       "      <td>0.292306</td>\n",
       "      <td>0.282388</td>\n",
       "      <td>0.279529</td>\n",
       "      <td>0.278836</td>\n",
       "    </tr>\n",
       "    <tr>\n",
       "      <th>10</th>\n",
       "      <td>0.678592</td>\n",
       "      <td>0.591683</td>\n",
       "      <td>0.503293</td>\n",
       "      <td>0.495548</td>\n",
       "      <td>0.492043</td>\n",
       "      <td>0.491117</td>\n",
       "    </tr>\n",
       "  </tbody>\n",
       "</table>\n",
       "</div>"
      ],
      "text/plain": [
       "     h=0.200   h=0.100   h=0.050   h=0.025   h=0.013   h=0.006\n",
       "0   0.005497  0.004999  0.004924  0.004908  0.004905  0.004904\n",
       "1   0.011387  0.010338  0.010174  0.010141  0.010133  0.010131\n",
       "2   0.017718  0.015986  0.015702  0.015645  0.015632  0.015628\n",
       "3   0.025244  0.022330  0.021808  0.021705  0.021681  0.021675\n",
       "4   0.036622  0.030876  0.029696  0.029481  0.029431  0.029418\n",
       "5   0.057429  0.044904  0.041929  0.041444  0.041329  0.041300\n",
       "6   0.096808  0.069743  0.062459  0.061394  0.061135  0.061071\n",
       "7   0.171328  0.115017  0.098183  0.095876  0.095293  0.095149\n",
       "8   0.307960  0.201536  0.164313  0.159336  0.158002  0.157675\n",
       "9   0.524919  0.366549  0.292306  0.282388  0.279529  0.278836\n",
       "10  0.678592  0.591683  0.503293  0.495548  0.492043  0.491117"
      ]
     },
     "execution_count": 41,
     "metadata": {},
     "output_type": "execute_result"
    }
   ],
   "source": [
    "import pandas as pd\n",
    "df = pd.DataFrame(L2).transpose()  \n",
    "df.columns = [f\"h={h:.3f}\" for h in H]\n",
    "df"
   ]
  },
  {
   "cell_type": "code",
   "execution_count": 42,
   "metadata": {},
   "outputs": [
    {
     "data": {
      "image/png": "[encoded data removed]",
      "text/plain": [
       "<Figure size 800x600 with 1 Axes>"
      ]
     },
     "metadata": {},
     "output_type": "display_data"
    }
   ],
   "source": [
    "import matplotlib.pyplot as plt\n",
    "\n",
    "\n",
    "plt.figure(figsize=(8, 6))\n",
    "plt.plot(H, df.iloc[-1], marker='o', linestyle='-', color='b')\n",
    "plt.xlabel('h')\n",
    "plt.ylabel('L2 Error t=T')\n",
    "plt.title('L2 Error vs H for t=T')\n",
    "plt.grid(True)\n",
    "plt.show()\n"
   ]
  }
 ],
 "metadata": {
  "kernelspec": {
   "display_name": "Python 3",
   "language": "python",
   "name": "python3"
  },
  "language_info": {
   "codemirror_mode": {
    "name": "ipython",
    "version": 3
   },
   "file_extension": ".py",
   "mimetype": "text/x-python",
   "name": "python",
   "nbconvert_exporter": "python",
   "pygments_lexer": "ipython3",
   "version": "3.10.10"
  },
  "orig_nbformat": 4,
  "vscode": {
   "interpreter": {
    "hash": "bd385fe162c5ca0c84973b7dd5c518456272446b2b64e67c2a69f949ca7a1754"
   }
  }
 },
 "nbformat": 4,
 "nbformat_minor": 2
}
