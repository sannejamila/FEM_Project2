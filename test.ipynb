{
 "cells": [
  {
   "cell_type": "code",
   "execution_count": 13,
   "metadata": {},
   "outputs": [],
   "source": [
    "from ngsolve import *\n",
    "from ngsolve.webgui import Draw\n",
    "import random\n"
   ]
  },
  {
   "cell_type": "code",
   "execution_count": 14,
   "metadata": {},
   "outputs": [],
   "source": [
    "epsilon = 0.02\n",
    "gamma = 50\n",
    "M = 10 #Kan endres\n",
    "maxh = 0.01 #Har ikke fått oppgitt verdi\n",
    "order = 1 #Orden til piecewise polynomials\n",
    "dt = 0.01             # Time step size\n",
    "time = 0.0"
   ]
  },
  {
   "cell_type": "code",
   "execution_count": 15,
   "metadata": {},
   "outputs": [],
   "source": [
    "mesh = Mesh(unit_square.GenerateMesh(maxh=maxh))\n",
    "V = H1(mesh, order=1) #Usikker på hvilket FES vi skal ha\n",
    "mu, v = V.TnT()\n",
    "phi, w = V.TnT()"
   ]
  },
  {
   "cell_type": "code",
   "execution_count": 16,
   "metadata": {},
   "outputs": [],
   "source": [
    "A = BilinearForm(V)\n",
    "A += M*grad(mu)*grad(v)*dx \n",
    "A.Assemble()\n",
    "\n",
    "A_time = BilinearForm(V)\n",
    "A_time += phi*v*dx\n",
    "A_time.Assemble()\n",
    "\n",
    "Astar = A_time.mat.CreateMatrix()\n",
    "\n",
    "Astar.AsVector().data = A_time.mat.AsVector()+dt*A.mat.AsVector()"
   ]
  },
  {
   "cell_type": "code",
   "execution_count": 17,
   "metadata": {},
   "outputs": [],
   "source": [
    "L = LinearForm(V)\n",
    "f = x   #finn en f\n",
    "L += f*v*dx\n",
    "\n",
    "phi_0 = random.uniform(-1,1)\n",
    "gfphi = GridFunction(V)\n",
    "gfphi.Set(phi_0)\n"
   ]
  },
  {
   "attachments": {},
   "cell_type": "markdown",
   "metadata": {},
   "source": [
    "Kilde:https://docu.ngsolve.org/nightly/i-tutorials/unit-3.1-parabolic/parabolic.html\n",
    "\n",
    "https://docu.ngsolve.org/latest/whetting_the_appetite/navierstokes.html"
   ]
  }
 ],
 "metadata": {
  "kernelspec": {
   "display_name": "Python 3",
   "language": "python",
   "name": "python3"
  },
  "language_info": {
   "codemirror_mode": {
    "name": "ipython",
    "version": 3
   },
   "file_extension": ".py",
   "mimetype": "text/x-python",
   "name": "python",
   "nbconvert_exporter": "python",
   "pygments_lexer": "ipython3",
   "version": "3.10.10"
  },
  "orig_nbformat": 4,
  "vscode": {
   "interpreter": {
    "hash": "bd385fe162c5ca0c84973b7dd5c518456272446b2b64e67c2a69f949ca7a1754"
   }
  }
 },
 "nbformat": 4,
 "nbformat_minor": 2
}
