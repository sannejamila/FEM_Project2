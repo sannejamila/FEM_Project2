{
 "cells": [
  {
   "cell_type": "code",
   "execution_count": 1,
   "metadata": {},
   "outputs": [],
   "source": [
    "from ngsolve import *\n",
    "from ngsolve.webgui import Draw\n",
    "import random\n",
    "import numpy as np\n",
    "\n",
    "#Defining parameters\n",
    "epsilon = 0.02\n",
    "gamma = 50\n",
    "M = 1e-3\n",
    "maxh = 0.01 \n",
    "order = 1 \n",
    "tau = 0.1            \n",
    "time = 0.0\n",
    "T = 1\n",
    "\n",
    "\n",
    "#Defining mesh and Finite element space\n",
    "mesh = Mesh(unit_square.GenerateMesh(maxh=maxh))\n",
    "V = H1(mesh, order=1) \n",
    "\n",
    "fes = V*V #FESpace([V,V])\n",
    "\n",
    "phi1,mu1 = fes.TrialFunction()  #n+1\n",
    "v,w = fes.TestFunction()\n",
    "\n",
    "phi_old = GridFunction(V)\n",
    "#Initialising phi_0 random values between -1 and 1\n",
    "random_values = np.random.uniform(-1, 1, V.ndof)\n",
    "phi_old.vec.FV().NumPy()[:] = random_values\n",
    "\n",
    "\n",
    "#f=LinearForm(fes)\n",
    "#f += tau*rhs_1*v*dx+gamma*(phi_old**3-phi_old)*w*dx+ phi_old*v*dx\n",
    "\n",
    "A = BilinearForm(fes)\n",
    "A += phi1*v*dx+tau*M*grad(mu1)*grad(v)*dx + mu1*w*dx-epsilon*grad(phi1)*grad(w)*dx\n",
    "A.Assemble()\n",
    "\n",
    "t = 0\n",
    "\n",
    "gfu = GridFunction(fes)\n",
    "\n",
    "gfut = GridFunction(gfu.space, multidim = 0)\n",
    "gfut.AddMultiDimComponent(gfu.vec)\n",
    "\n",
    "\n",
    "while t<T:\n",
    "    t+=tau\n",
    "    rhs = exp(-t)*x\n",
    "    \n",
    "    f=LinearForm(fes)\n",
    "    f+= tau*rhs*v*dx+gamma*(phi_old**3-phi_old)*w*dx+ phi_old*v*dx\n",
    "    f.Assemble()\n",
    "\n",
    "    gfu.vec.data = A.mat.Inverse(freedofs = fes.FreeDofs())*f.vec\n",
    "\n",
    "    gfut.AddMultiDimComponent(gfu.vec)\n",
    "    phi_old.vec.data = gfu.components[0].vec\n",
    "\n",
    "    \n",
    "    \n",
    "\n"
   ]
  },
  {
   "cell_type": "code",
   "execution_count": 2,
   "metadata": {},
   "outputs": [
    {
     "data": {
      "application/vnd.jupyter.widget-view+json": {
       "model_id": "d3a19eb8918f40e0950228a9d0753fb2",
       "version_major": 2,
       "version_minor": 0
      },
      "text/plain": [
       "WebGuiWidget(layout=Layout(height='500px', width='100%'), value={'gui_settings': {}, 'ngsolve_version': '6.2.2…"
      ]
     },
     "metadata": {},
     "output_type": "display_data"
    },
    {
     "data": {
      "text/plain": [
       "BaseWebGuiScene"
      ]
     },
     "execution_count": 2,
     "metadata": {},
     "output_type": "execute_result"
    }
   ],
   "source": [
    "Draw(gfut.components[0], mesh, interpolate_multidim = True, animate = True)\n",
    "#Draw(gfu.components[0])"
   ]
  },
  {
   "attachments": {},
   "cell_type": "markdown",
   "metadata": {},
   "source": [
    "## Fully explicit scheme\n",
    "\n",
    "Discretize $\\partial_t \\phi = \\frac{\\phi^{n+1}-\\phi^n}{\\tau}$, $\\mu = \\mu^{n+1}$, $\\phi = \\phi^n$ and $\\nabla \\phi = \\nabla \\phi^{n+1}$.\n",
    "\n",
    "$$\n",
    "\\begin{aligned}\n",
    "(\\frac{\\phi^{n+1}-\\phi^n}{\\tau},v) + (M\\nabla \\mu^{n+1}, \\nabla v) &= 0\\ \\ \\ \\ \\forall v \\in \\mathbb{V} \\\\\n",
    "(\\mu^{n+1},w)-(\\epsilon \\nabla \\phi^{n+1}, \\nabla w) \n",
    "&= (\\gamma ((\\phi^n)^3 -\\phi^n),w) \\ \\ \\ \\  \\forall w \\in \\mathbb{V} \n",
    "\\end{aligned}\n",
    "$$\n"
   ]
  },
  {
   "cell_type": "code",
   "execution_count": 2,
   "metadata": {},
   "outputs": [],
   "source": [
    "def FullyExplicitScheme(V,v,w,mu,phi,phi_old,phi_trial,mu_trial):\n",
    "\n",
    "    #Storing solutions for each timestep\n",
    "    phi_solutions = []\n",
    "    mu_solutions = []\n",
    "\n",
    "    #Bilinear and linear form for the first equation\n",
    "    A_phi = BilinearForm(V)\n",
    "    A_phi += (phi_trial * v) * dx + tau * M * grad(mu_trial) * grad(v) * dx  \n",
    "    A_phi.Assemble()\n",
    "\n",
    "    f_phi = LinearForm(V)\n",
    "\n",
    "    #Bilinear and linear form for the second equation\n",
    "    A_mu = BilinearForm(V)\n",
    "    A_mu += (mu_trial * w) * dx - epsilon * grad(phi_trial) * grad(w) * dx\n",
    "    A_mu.Assemble()\n",
    "\n",
    "    f_mu = LinearForm(V)\n",
    "\n",
    "    t = 0\n",
    "    while t < T:\n",
    "        t += tau\n",
    "\n",
    "        rhs_phi = M*(3*x**2-3)\n",
    "        rhs_mu= (x**3-3*x)-gamma*(exp(-3*t)*(x**6+3*x**4+3*x**2+1)-exp(-t)*(x**2+1))-epsilon*(2*exp(-t)*x)\n",
    "\n",
    "\n",
    "        #Right hand side of first equation\n",
    "        f_phi = LinearForm(V)\n",
    "        f_phi += phi_old * v * dx  + tau*rhs_phi*v*dx # er bare 0 her originalt men definerer uansett fordi vi splitter opp diskretiserignen for phi, skriv ned\n",
    "        f_phi.Assemble()\n",
    "\n",
    "        #Solve for phi^{n+1}\n",
    "        phi = GridFunction(V,name=\"uDG\")\n",
    "        phi.vec.data = A_phi.mat.Inverse(V.FreeDofs()) * f_phi.vec\n",
    "        \n",
    "\n",
    "        #Right hand side of second equation\n",
    "        phi_nonlinear = CoefficientFunction(gamma * (phi_old**3 - phi_old))\n",
    "        f_mu = LinearForm(V)  \n",
    "        f_mu += phi_nonlinear * w * dx + tau*rhs_mu*w*dx\n",
    "        f_mu.Assemble()\n",
    "\n",
    "        #Solve for mu^{n+1}\n",
    "        mu = GridFunction(V,name=\"uDG\")\n",
    "        mu.vec.data += A_mu.mat.Inverse(V.FreeDofs()) * f_mu.vec\n",
    "\n",
    "        \n",
    "        #phi_solutions.append(phi.vec.FV().NumPy().copy())\n",
    "        #mu_solutions.append(mu.vec.FV().NumPy().copy())\n",
    "\n",
    "        phi_solutions.append(phi)\n",
    "        mu_solutions.append(mu)\n",
    "\n",
    "        #phi_solutions.append(phi)\n",
    "        #mu_solutions.append(mu) \n",
    "        phi_old.vec.data = phi.vec\n",
    "        #print(mu.vec.FV().NumPy().copy())\n",
    "\n",
    "    return phi_solutions, mu_solutions\n"
   ]
  },
  {
   "cell_type": "code",
   "execution_count": 3,
   "metadata": {},
   "outputs": [],
   "source": [
    "phi_solutions, mu_solutions = FullyExplicitScheme(V,v,w,mu,phi,phi_old,phi_trial,mu_trial)"
   ]
  },
  {
   "cell_type": "code",
   "execution_count": 4,
   "metadata": {},
   "outputs": [],
   "source": [
    "phi = phi_solutions[-1]\n",
    "mu = mu_solutions[-1]\n"
   ]
  },
  {
   "cell_type": "code",
   "execution_count": 5,
   "metadata": {},
   "outputs": [],
   "source": [
    "def phi_exact(t):\n",
    "    return exp(-t)*(x**2+1)\n",
    "\n",
    "mu_exact = x**3-3*x\n"
   ]
  },
  {
   "cell_type": "code",
   "execution_count": 6,
   "metadata": {},
   "outputs": [
    {
     "data": {
      "text/plain": [
       "386959.4199863015"
      ]
     },
     "execution_count": 6,
     "metadata": {},
     "output_type": "execute_result"
    }
   ],
   "source": [
    "e_h = mu_exact-mu\n",
    "\n",
    "norm = np.sqrt(Integrate(e_h*e_h,mesh))\n",
    "norm"
   ]
  },
  {
   "attachments": {},
   "cell_type": "markdown",
   "metadata": {},
   "source": [
    "Kilde:https://docu.ngsolve.org/nightly/i-tutorials/unit-3.1-parabolic/parabolic.html\n",
    "\n",
    "https://docu.ngsolve.org/latest/whetting_the_appetite/navierstokes.html"
   ]
  }
 ],
 "metadata": {
  "kernelspec": {
   "display_name": "Python 3",
   "language": "python",
   "name": "python3"
  },
  "language_info": {
   "codemirror_mode": {
    "name": "ipython",
    "version": 3
   },
   "file_extension": ".py",
   "mimetype": "text/x-python",
   "name": "python",
   "nbconvert_exporter": "python",
   "pygments_lexer": "ipython3",
   "version": "3.10.10"
  },
  "orig_nbformat": 4,
  "vscode": {
   "interpreter": {
    "hash": "bd385fe162c5ca0c84973b7dd5c518456272446b2b64e67c2a69f949ca7a1754"
   }
  }
 },
 "nbformat": 4,
 "nbformat_minor": 2
}
