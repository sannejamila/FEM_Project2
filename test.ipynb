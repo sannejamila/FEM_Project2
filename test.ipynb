{
 "cells": [
  {
   "cell_type": "code",
   "execution_count": 5,
   "metadata": {},
   "outputs": [],
   "source": [
    "from ngsolve import *\n",
    "from ngsolve.webgui import Draw\n",
    "import random\n",
    "import numpy as np\n",
    "\n",
    "#Defining parameters\n",
    "epsilon = 0.02\n",
    "gamma = 50\n",
    "M = 1e-3\n",
    "maxh = 0.01 \n",
    "order = 1 \n",
    "tau = 0.1            \n",
    "time = 0.0\n",
    "T = 1\n",
    "\n",
    "\n",
    "#Defining mesh and Finite element space\n",
    "mesh = Mesh(unit_square.GenerateMesh(maxh=maxh))\n",
    "V = H1(mesh, order=1) \n",
    "\n",
    "fes = V*V #FESpace([V,V])\n",
    "\n",
    "phi1,mu1 = fes.TrialFunction()  #n+1\n",
    "v,w = fes.TestFunction()\n",
    "\n",
    "phi_old = GridFunction(V)\n",
    "#Initialising phi_0 random values between -1 and 1\n",
    "random_values = np.random.uniform(-1, 1, V.ndof)\n",
    "#phi_old.vec.FV().NumPy()[:] = random_values\n",
    "phi_old.vec.data = random_values\n",
    "\n",
    "#f=LinearForm(fes)\n",
    "#f += tau*rhs_1*v*dx+gamma*(phi_old**3-phi_old)*w*dx+ phi_old*v*dx\n",
    "\n",
    "A = BilinearForm(fes)\n",
    "A += phi1*v*dx+tau*M*grad(mu1)*grad(v)*dx + mu1*w*dx-epsilon*grad(phi1)*grad(w)*dx\n",
    "A.Assemble()\n",
    "\n",
    "t = 0\n",
    "\n",
    "gfu = GridFunction(fes)\n",
    "\n",
    "gfut = GridFunction(gfu.space, multidim = 0)\n",
    "gfut.AddMultiDimComponent(gfu.vec)\n",
    "\n",
    "\n",
    "while t<T:\n",
    "    t+=tau\n",
    "    rhs = exp(-t)*x\n",
    "    \n",
    "    f=LinearForm(fes)\n",
    "    f+= tau*rhs*v*dx+gamma*(phi_old**3-phi_old)*w*dx+ phi_old*v*dx\n",
    "    f.Assemble()\n",
    "\n",
    "    gfu.vec.data = A.mat.Inverse(freedofs = fes.FreeDofs())*f.vec\n",
    "\n",
    "    gfut.AddMultiDimComponent(gfu.vec)\n",
    "    phi_old.vec.data = gfu.components[0].vec\n",
    "\n",
    "    \n",
    "    \n",
    "\n"
   ]
  },
  {
   "cell_type": "code",
   "execution_count": 6,
   "metadata": {},
   "outputs": [
    {
     "data": {
      "application/vnd.jupyter.widget-view+json": {
       "model_id": "38a16d81f4ac4803abbe227abd5ac8a8",
       "version_major": 2,
       "version_minor": 0
      },
      "text/plain": [
       "WebGuiWidget(layout=Layout(height='500px', width='100%'), value={'gui_settings': {}, 'ngsolve_version': '6.2.2…"
      ]
     },
     "metadata": {},
     "output_type": "display_data"
    },
    {
     "data": {
      "text/plain": [
       "BaseWebGuiScene"
      ]
     },
     "execution_count": 6,
     "metadata": {},
     "output_type": "execute_result"
    }
   ],
   "source": [
    "Draw(gfut.components[0], mesh, interpolate_multidim = True, animate = True)\n",
    "#Draw(gfu.components[0])"
   ]
  },
  {
   "attachments": {},
   "cell_type": "markdown",
   "metadata": {},
   "source": [
    "## Fully explicit scheme\n",
    "\n",
    "Discretize $\\partial_t \\phi = \\frac{\\phi^{n+1}-\\phi^n}{\\tau}$, $\\mu = \\mu^{n+1}$, $\\phi = \\phi^n$ and $\\nabla \\phi = \\nabla \\phi^{n+1}$.\n",
    "\n",
    "$$\n",
    "\\begin{aligned}\n",
    "(\\frac{\\phi^{n+1}-\\phi^n}{\\tau},v) + (M\\nabla \\mu^{n+1}, \\nabla v) &= 0\\ \\ \\ \\ \\forall v \\in \\mathbb{V} \\\\\n",
    "(\\mu^{n+1},w)-(\\epsilon \\nabla \\phi^{n+1}, \\nabla w) \n",
    "&= (\\gamma ((\\phi^n)^3 -\\phi^n),w) \\ \\ \\ \\  \\forall w \\in \\mathbb{V} \n",
    "\\end{aligned}\n",
    "$$\n"
   ]
  },
  {
   "attachments": {},
   "cell_type": "markdown",
   "metadata": {},
   "source": [
    "Kilde:https://docu.ngsolve.org/nightly/i-tutorials/unit-3.1-parabolic/parabolic.html\n",
    "\n",
    "https://docu.ngsolve.org/latest/whetting_the_appetite/navierstokes.html"
   ]
  }
 ],
 "metadata": {
  "kernelspec": {
   "display_name": "Python 3",
   "language": "python",
   "name": "python3"
  },
  "language_info": {
   "codemirror_mode": {
    "name": "ipython",
    "version": 3
   },
   "file_extension": ".py",
   "mimetype": "text/x-python",
   "name": "python",
   "nbconvert_exporter": "python",
   "pygments_lexer": "ipython3",
   "version": "3.10.10"
  },
  "orig_nbformat": 4,
  "vscode": {
   "interpreter": {
    "hash": "bd385fe162c5ca0c84973b7dd5c518456272446b2b64e67c2a69f949ca7a1754"
   }
  }
 },
 "nbformat": 4,
 "nbformat_minor": 2
}
